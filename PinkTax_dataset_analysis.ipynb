{
  "nbformat": 4,
  "nbformat_minor": 0,
  "metadata": {
    "colab": {
      "name": "Exercícios.ipynb",
      "version": "0.3.2",
      "provenance": [],
      "include_colab_link": true
    },
    "kernelspec": {
      "display_name": "Python 3",
      "language": "python",
      "name": "python3"
    }
  },
  "cells": [
    {
      "cell_type": "markdown",
      "metadata": {
        "id": "view-in-github",
        "colab_type": "text"
      },
      "source": [
        "<a href=\"https://colab.research.google.com/github/LucianaMarques/workshopForHer2018/blob/master/PinkTax_dataset_analysis.ipynb\" target=\"_parent\"><img src=\"https://colab.research.google.com/assets/colab-badge.svg\" alt=\"Open In Colab\"/></a>"
      ]
    },
    {
      "metadata": {
        "id": "_kfLkE1ywSRS",
        "colab_type": "code",
        "outputId": "7ca9525f-0847-44aa-e12b-1c22a58adb0d",
        "colab": {
          "resources": {
            "http://localhost:8080/nbextensions/google.colab/files.js": {
              "data": "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",
              "ok": true,
              "headers": [
                [
                  "content-type",
                  "application/javascript"
                ]
              ],
              "status": 200,
              "status_text": ""
            }
          },
          "base_uri": "https://localhost:8080/",
          "height": 112
        }
      },
      "cell_type": "code",
      "source": [
        "from google.colab import files\n",
        "# antes de carregar o arquivo, selecione ele do seu computador\n",
        "files.upload()\n"
      ],
      "execution_count": 6,
      "outputs": [
        {
          "output_type": "display_data",
          "data": {
            "text/html": [
              "\n",
              "     <input type=\"file\" id=\"files-37350fd3-1a15-49e7-8625-a11aaeb8dfce\" name=\"files[]\" multiple disabled />\n",
              "     <output id=\"result-37350fd3-1a15-49e7-8625-a11aaeb8dfce\">\n",
              "      Upload widget is only available when the cell has been executed in the\n",
              "      current browser session. Please rerun this cell to enable.\n",
              "      </output>\n",
              "      <script src=\"/nbextensions/google.colab/files.js\"></script> "
            ],
            "text/plain": [
              "<IPython.core.display.HTML object>"
            ]
          },
          "metadata": {
            "tags": []
          }
        },
        {
          "output_type": "stream",
          "text": [
            "Saving pink_tax.csv to pink_tax.csv\n"
          ],
          "name": "stdout"
        },
        {
          "output_type": "execute_result",
          "data": {
            "text/plain": [
              "{'pink_tax.csv': b',Store,Category,Item Type,Name (on Website),Gender,Price\\r\\n0,Carter\\'s,Kids,Baby Jeans,5-Pocket Embellished Skinny Jeans,F,28.0\\r\\n1,Carter\\'s,Kids,Baby Jeans,5-Pocket Skinny Jeans,M,14.4\\r\\n2,Carter\\'s,Kids,Baby Jeans,Printed French Terry Pants,F,8.0\\r\\n3,Carter\\'s,Kids,Baby Jeans,French Terry Pants,M,8.0\\r\\n4,Carter\\'s,Kids,Baby Shirts,Printed Tee,F,5.0\\r\\n5,Carter\\'s,Kids,Baby Shirts,Excavator Tee,M,5.0\\r\\n6,Carter\\'s,Kids,Baby Shirts,Ballet Tee,F,8.0\\r\\n7,Carter\\'s,Kids,Baby Shirts,Speed Of Lightning Tee,M,8.0\\r\\n8,Carter\\'s,Kids,Baby Shoes,Carter\\'s Sparkle High Tops,F,15.0\\r\\n9,Carter\\'s,Kids,Baby Shoes,Carter\\'s High Top Crib Shoes,M,15.0\\r\\n10,Carter\\'s,Kids,Baby Shoes,Glitter Crib Riding Boots,F,13.2\\r\\n11,Carter\\'s,Kids,Baby Shoes,Crib Boots,M,12.0\\r\\n12,Carter\\'s,Kids,Baby Sweaters,French Terry Cardigan,F,12.0\\r\\n13,Carter\\'s,Kids,Baby Sweaters,French Terry Cardigan,M,12.0\\r\\n14,Carter\\'s,Kids,Baby Sweaters,Half-Zip Fleece Pullover,F,22.0\\r\\n15,Carter\\'s,Kids,Baby Sweaters,Half-Zip Fleece Pullover,M,13.2\\r\\n16,Carter\\'s,Kids,Children\\'s Jeans,5-Pocket Embellished Skinny Jeans,F,32.0\\r\\n17,Carter\\'s,Kids,Children\\'s Jeans,5-Pocket Jeans,M,18.0\\r\\n18,Carter\\'s,Kids,Children\\'s Jeans,Stretch Corduroy Pants,F,22.5\\r\\n19,Carter\\'s,Kids,Children\\'s Jeans,5-Pocket Corduroy Pants,M,22.5\\r\\n20,Carter\\'s,Kids,Children\\'s Shirts,Football Tee,M,10.8\\r\\n21,Carter\\'s,Kids,Children\\'s Shirts,Winter Friends Tee,F,20.0\\r\\n22,Carter\\'s,Kids,Children\\'s Shirts,Winter Bear Tee,M,20.0\\r\\n23,Carter\\'s,Kids,\"Children\\'s\\r\\nUnderwear\",3-Pack Stretch Cotton Panties,F,9.0\\r\\n24,Carter\\'s,Kids,\"Children\\'s\\r\\nUnderwear\",3-Pack Cotton Briefs,M,9.0\\r\\n25,Carter\\'s,Kids,\"Children\\'s\\r\\nUnderwear\",7-Pack Stretch Cotton Panties,F,18.0\\r\\n26,Carter\\'s,Kids,\"Children\\'s\\r\\nUnderwear\",7-Pack Cotton Briefs,M,18.0\\r\\n27,Carter\\'s,Kids,Onesie,Denim Jumpsuit,F,14.4\\r\\n28,Carter\\'s,Kids,Onesie,Ripstop Shortalls,M,11.99\\r\\n29,Carter\\'s,Kids,Onesie,Striped Romper,F,9.99\\r\\n30,Carter\\'s,Kids,Onesie,Cotton Plaid Romper,M,8.99\\r\\n31,Carter\\'s,Kids,Toddler Shoes,Carter\\'s Casual Shoes,F,25.5\\r\\n32,Carter\\'s,Kids,Toddler Shoes,Carter\\'s Casual Shoes,M,25.5\\r\\n33,Gap,Kids,Baby Jeans,Pull-On Skinny Jeans,F,24.95\\r\\n34,Gap,Kids,Baby Jeans,Pull-On Slim Jeans,M,24.95\\r\\n35,Gap,Kids,Baby Jeans,Indigo Pull-On Jeans,F,24.95\\r\\n36,Gap,Kids,Baby Jeans,Lined Pull-On Original Fit Jeans,M,24.95\\r\\n37,Gap,Kids,Baby Shirts,Lace Top,F,19.95\\r\\n38,Gap,Kids,Baby Shirts,Patch Rugby Top,M,19.95\\r\\n39,Gap,Kids,Baby Shirts,Printed Ruffle Top,F,12.95\\r\\n40,Gap,Kids,Baby Shirts,2-In-1 Pocket Tee,M,12.95\\r\\n41,Gap,Kids,Baby Shoes,Polka Dot Mary Jane Sneakers,F,24.95\\r\\n42,Gap,Kids,Baby Shoes,Chambray Sneakers,M,24.95\\r\\n43,Gap,Kids,Baby Shoes,Polka Dot Mary Jane Sneakers,F,29.95\\r\\n44,Gap,Kids,Baby Shoes,Chambray Sneakers,M,24.95\\r\\n45,Gap,Kids,Baby Sweaters,Cable Peplum Cardigan,F,34.95\\r\\n46,Gap,Kids,Baby Sweaters,Cable Knit Sweater,M,34.95\\r\\n47,Gap,Kids,Baby Sweaters,Deer Cardigan,F,34.95\\r\\n48,Gap,Kids,Baby Sweaters,Shawl Cardigan,M,34.95\\r\\n49,Gap,Kids,Children\\'s Jeans,1969 Boot Cut Jeans,F,29.95\\r\\n50,Gap,Kids,Children\\'s Jeans,1969 Boot Cut Jeans,M,34.95\\r\\n51,Gap,Kids,Children\\'s Jeans,1969 Patch Cropped Boy Fit Jeans,F,36.95\\r\\n52,Gap,Kids,Children\\'s Jeans,1969 Original Fit Jeans,M,29.95\\r\\n53,Gap,Kids,Children\\'s Shirts,Solid Pique Polo,F,18.95\\r\\n54,Gap,Kids,Children\\'s Shirts,Solid Pique Polo,M,18.95\\r\\n55,Gap,Kids,Children\\'s Shirts,Printed Babydoll Tee,F,16.95\\r\\n56,Gap,Kids,Children\\'s Shirts,Stripe Pocket Tee,M,14.95\\r\\n57,Gap,Kids,\"Children\\'s\\r\\nUnderwear\",\"Happy Day-Of-The-Week Bikini Brief (7-\\r\\nPack)\",F,26.95\\r\\n58,Gap,Kids,\"Children\\'s\\r\\nUnderwear\",Bike Underwear (5-Pack),M,26.95\\r\\n59,Gap,Kids,\"Children\\'s\\r\\nUnderwear\",Horse Hipster (7-Pack),F,26.95\\r\\n60,Gap,Kids,\"Children\\'s\\r\\nUnderwear\",Stripe Boxer Briefs (5-Pack),M,29.95\\r\\n61,Gap,Kids,Onesie,Ruffle Slub One-Piece,F,24.95\\r\\n62,Gap,Kids,Onesie,Rugby-Stripe Baseball Tee One-Piece,M,24.95\\r\\n63,Gap,Kids,Onesie,Stampede One-Piece,F,29.95\\r\\n64,Gap,Kids,Onesie,Plaid Roll-Up One-Piece,M,29.95\\r\\n65,Gap,Kids,Toddler Shoes,Metallic Logo Trainers,F,29.95\\r\\n66,Gap,Kids,Toddler Shoes,Colorblock Trainers,M,29.95\\r\\n67,Gymboree,Kids,Baby Jeans,Double Button Jeans,F,24.95\\r\\n68,Gymboree,Kids,Baby Jeans,Pull-On Jeans,M,24.95\\r\\n69,Gymboree,Kids,Baby Jeans,Geo Floral Skirt,F,24.95\\r\\n70,Gymboree,Kids,Baby Jeans,Cuffed Plaid Shorts,M,22.95\\r\\n71,Gymboree,Kids,Baby Shirts,Wildflowers & Birdies Smock Top,F,22.95\\r\\n72,Gymboree,Kids,Baby Shirts,Plaid Shirt,M,22.95\\r\\n73,Gymboree,Kids,Baby Shirts,Meow Striped Tee,F,21.95\\r\\n74,Gymboree,Kids,Baby Shirts,Football Champ Long Sleeve Tee,M,19.95\\r\\n75,Gymboree,Kids,Baby Shoes,Metallic Sandals,F,21.95\\r\\n76,Gymboree,Kids,Baby Shoes,Crib Sandals,M,21.95\\r\\n77,Gymboree,Kids,Baby Shoes,Patent Eyelet Crib Shoes,F,21.95\\r\\n78,Gymboree,Kids,Baby Shoes,Boat Crib Shoes,M,21.95\\r\\n79,Gymboree,Kids,Baby Shoes,Polka Dot Booties,F,16.95\\r\\n80,Gymboree,Kids,Baby Shoes,Striped Booties,M,16.95\\r\\n81,Gymboree,Kids,Baby Sweaters,Polka Dot Hoodie,F,24.95\\r\\n82,Gymboree,Kids,Baby Sweaters,Produce Truck Hoodie,M,24.95\\r\\n83,Gymboree,Kids,Baby Sweaters,Fair Isle Cardigan,F,32.95\\r\\n84,Gymboree,Kids,Baby Sweaters,Elbow Patch Cardigan,M,32.95\\r\\n85,Gymboree,Kids,Children\\'s Jeans,Bootcut Jeans,F,32.95\\r\\n86,Gymboree,Kids,Children\\'s Jeans,Bootcut Jeans,M,29.95\\r\\n87,Gymboree,Kids,Children\\'s Jeans,Straight Jeans,F,32.95\\r\\n88,Gymboree,Kids,Children\\'s Jeans,Straight Jeans,M,29.95\\r\\n89,Gymboree,Kids,Children\\'s Shirts,Be Sweet Tee,F,19.95\\r\\n90,Gymboree,Kids,Children\\'s Shirts,Totally Awesome Wave Tee,M,16.95\\r\\n91,Gymboree,Kids,Children\\'s Shirts,You Me And The Sea Tank,F,19.95\\r\\n92,Gymboree,Kids,Children\\'s Shirts,So Much To Sea Tank,M,12.95\\r\\n93,Gymboree,Kids,\"Children\\'s\\r\\nUnderwear\",Halloween Underwear Three-Pack,F,14.95\\r\\n94,Gymboree,Kids,\"Children\\'s\\r\\nUnderwear\",Halloween Underwear Three-Pack,M,15.95\\r\\n95,Gymboree,Kids,\"Children\\'s\\r\\nUnderwear\",Giraffe Underwear Three-Pack,F,14.95\\r\\n96,Gymboree,Kids,\"Children\\'s\\r\\nUnderwear\",Safari Briefs Three-Pack,M,15.95\\r\\n97,Gymboree,Kids,Onesie,Squirrel Two-Piece Set,F,26.95\\r\\n98,Gymboree,Kids,Onesie,Bear Two-Piece Set,M,26.95\\r\\n99,Gymboree,Kids,Onesie,Striped Elephant One-Piece,F,24.95\\r\\n100,Gymboree,Kids,Onesie,Striped Elephant One-Piece,M,24.95\\r\\n101,OshKosh B\\'gosh,Kids,Baby Jeans,Super Skinny Jeans - Marine Blue,F,10.0\\r\\n102,OshKosh B\\'gosh,Kids,Baby Jeans,Skinny Jeans - Indigo Bright,M,10.0\\r\\n103,OshKosh B\\'gosh,Kids,Baby Jeans,Chambray Ruffle Joggers,F,13.0\\r\\n104,OshKosh B\\'gosh,Kids,Baby Jeans,Stretch Denim Joggers,M,13.0\\r\\n105,OshKosh B\\'gosh,Kids,Baby Shirts,Oshkosh Originals Graphic Tee,F,6.0\\r\\n106,OshKosh B\\'gosh,Kids,Baby Shirts,Oshkosh Originals Graphic Tee,M,6.0\\r\\n107,OshKosh B\\'gosh,Kids,Baby Shirts,Tlc Striped Tunic,F,10.0\\r\\n108,OshKosh B\\'gosh,Kids,Baby Shirts,Double Decker Pocket Tee,M,10.0\\r\\n109,OshKosh B\\'gosh,Kids,Baby Shoes,Oshkosh Slip-On Shoes,F,34.0\\r\\n110,OshKosh B\\'gosh,Kids,Baby Shoes,Oshkosh Slip-On Shoes,M,34.0\\r\\n111,OshKosh B\\'gosh,Kids,Baby Shoes,Oshkosh Leopard Print Crib Boots,F,14.0\\r\\n112,OshKosh B\\'gosh,Kids,Baby Shoes,Oshkosh Faux Fur Crib Boots,M,14.0\\r\\n113,OshKosh B\\'gosh,Kids,Baby Sweaters,Marled Cardi,F,22.0\\r\\n114,OshKosh B\\'gosh,Kids,Baby Sweaters,Marled Shawl Collar Cardigan,M,19.0\\r\\n115,OshKosh B\\'gosh,Kids,Baby Sweaters,Ski Lodge Sweater,F,25.0\\r\\n116,OshKosh B\\'gosh,Kids,Baby Sweaters,Ski Lodge Pullover Sweater,M,24.0\\r\\n117,OshKosh B\\'gosh,Kids,Children\\'s Jeans,Oshkosh Skinny Jeans-Maritime Blue Wash,F,8.0\\r\\n118,OshKosh B\\'gosh,Kids,Children\\'s Jeans,Skinny Jeans - Indigo Bright,M,12.0\\r\\n119,OshKosh B\\'gosh,Kids,Children\\'s Jeans,Straight Jeans - Mellow Medium,M,12.0\\r\\n120,OshKosh B\\'gosh,Kids,Children\\'s Shirts,Embroidered Top,F,13.0\\r\\n121,OshKosh B\\'gosh,Kids,Children\\'s Shirts,Striped Henley,M,13.0\\r\\n122,OshKosh B\\'gosh,Kids,Children\\'s Shirts,Oshkosh Originals Graphic Tee,F,6.0\\r\\n123,OshKosh B\\'gosh,Kids,Children\\'s Shirts,Oshkosh Originals Graphic Tee,M,6.0\\r\\n124,OshKosh B\\'gosh,Kids,\"Children\\'s\\r\\nUnderwear\",3-Pack Stretch Cotton Panties,F,14.0\\r\\n125,OshKosh B\\'gosh,Kids,\"Children\\'s\\r\\nUnderwear\",3-Pack Cotton Briefs,M,14.0\\r\\n126,OshKosh B\\'gosh,Kids,\"Children\\'s\\r\\nUnderwear\",7-Pack Everyday Panties,F,26.0\\r\\n127,OshKosh B\\'gosh,Kids,\"Children\\'s\\r\\nUnderwear\",6-Pack Cotton Briefs,M,26.0\\r\\n128,OshKosh B\\'gosh,Kids,Onesie,Sparkle Henley Bodysuit,F,8.0\\r\\n129,OshKosh B\\'gosh,Kids,Onesie,Varsity Henley Bodysuit,M,8.0\\r\\n130,OshKosh B\\'gosh,Kids,Onesie,Floral Poplin Bodysuit,F,10.0\\r\\n131,OshKosh B\\'gosh,Kids,Onesie,Plaid Poplin Bodysuit,M,10.0\\r\\n132,OshKosh B\\'gosh,Kids,Toddler Shoes,Oshkosh Athletic Sneakers,F,40.0\\r\\n133,OshKosh B\\'gosh,Kids,Toddler Shoes,Oshkosh Athletic Sneakers,M,40.0\\r\\n134,\"The Children\\'s\\r\\nPlace\",Kids,Baby Jeans,Basic Jeans,F,14.95\\r\\n135,\"The Children\\'s\\r\\nPlace\",Kids,Baby Jeans,Basic Jeans,M,14.95\\r\\n136,\"The Children\\'s\\r\\nPlace\",Kids,Baby Jeans,Basic Leggings,F,9.5\\r\\n137,\"The Children\\'s\\r\\nPlace\",Kids,Baby Jeans,Knit Cargo Pants,M,9.5\\r\\n138,\"The Children\\'s\\r\\nPlace\",Kids,Baby Shirts,\"Long Sleeve \\'Mommy\\'s Night Owl\\' Little\\r\\nTalker Bodysuit\",F,9.5\\r\\n139,\"The Children\\'s\\r\\nPlace\",Kids,Baby Shirts,\"Long Sleeve \\'Naps, Hugs And Rock \\'N\\' Roll\\'\\r\\nLittle Talker Bodysuit\",M,9.5\\r\\n140,\"The Children\\'s\\r\\nPlace\",Kids,Baby Shirts,\"I\\'m The Cutest Of Them All\\' Little Talker\\r\\nBodysuit\",F,9.5\\r\\n141,\"The Children\\'s\\r\\nPlace\",Kids,Baby Shirts,\"I Love My Mommy\\' Monster Little Talker\\r\\nBodysuit\",M,9.5\\r\\n142,\"The Children\\'s\\r\\nPlace\",Kids,Baby Shoes,Low-Top Shoe,F,14.95\\r\\n143,\"The Children\\'s\\r\\nPlace\",Kids,Baby Sweaters,Long Sleeve Graphic Crew Neck Pullover,F,19.95\\r\\n144,\"The Children\\'s\\r\\nPlace\",Kids,Baby Sweaters,\"Long Sleeve Raglan Sleeve Crew Neck\\r\\nSweater\",M,19.95\\r\\n145,\"The Children\\'s\\r\\nPlace\",Kids,Baby Sweaters,Uniform Button-Front Crew-Neck Cardigan,M,19.95\\r\\n146,\"The Children\\'s\\r\\nPlace\",Kids,Baby Sweaters,Long Sleeve V-Neck Sweater,M,17.95\\r\\n147,\"The Children\\'s\\r\\nPlace\",Kids,Children\\'s Jeans,Skinny Jeans - China Blue,F,19.5\\r\\n148,\"The Children\\'s\\r\\nPlace\",Kids,Children\\'s Jeans,Skinny Jeans - Retro Vintage,M,19.5\\r\\n149,\"The Children\\'s\\r\\nPlace\",Kids,Children\\'s Jeans,Bootcut Jeans - Merida,F,19.5\\r\\n150,\"The Children\\'s\\r\\nPlace\",Kids,Children\\'s Jeans,Bootcut Jeans - Dust,M,19.5\\r\\n151,\"The Children\\'s\\r\\nPlace\",Kids,Children\\'s Shirts,Long Sleeve Photo-Real Graphic Tunic,F,16.95\\r\\n152,\"The Children\\'s\\r\\nPlace\",Kids,Children\\'s Shirts,Long Sleeve Striped Crew Tee,M,14.95\\r\\n153,\"The Children\\'s\\r\\nPlace\",Kids,Children\\'s Shirts,Uniform Short Sleeve Classic Polo,F,12.95\\r\\n154,\"The Children\\'s\\r\\nPlace\",Kids,Children\\'s Shirts,Short-Sleeved Uniform Polo,M,10.95\\r\\n155,\"The Children\\'s\\r\\nPlace\",Kids,\"Children\\'s\\r\\nUnderwear\",Days Of The Week Briefs 7-Pack,F,18.95\\r\\n156,\"The Children\\'s\\r\\nPlace\",Kids,\"Children\\'s\\r\\nUnderwear\",Striped And Camo Print Briefs 7-Pack,M,18.95\\r\\n157,\"The Children\\'s\\r\\nPlace\",Kids,\"Children\\'s\\r\\nUnderwear\",Briefs 3-Pack,F,6.95\\r\\n158,\"The Children\\'s\\r\\nPlace\",Kids,\"Children\\'s\\r\\nUnderwear\",Briefs 3-Pack,M,6.95\\r\\n159,\"The Children\\'s\\r\\nPlace\",Kids,Onesie,Dotted Shirt & Jeggings Set,F,19.95\\r\\n160,\"The Children\\'s\\r\\nPlace\",Kids,Onesie,\"Long Sleeve Faux Layer Bear Bodysuit &\\r\\nBanded Knit Pants Set\",M,19.95\\r\\n161,\"The Children\\'s\\r\\nPlace\",Kids,Onesie,Cat Overalls Set,F,39.95\\r\\n162,\"The Children\\'s\\r\\nPlace\",Kids,Onesie,Suspenders Shirt & Shortall Set,M,34.95\\r\\n163,\"The Children\\'s\\r\\nPlace\",Kids,Toddler Shoes,Twirl Slip-On Sneakers,F,19.95\\r\\n164,\"The Children\\'s\\r\\nPlace\",Kids,Toddler Shoes,Slip-On Printed Sneaker,M,22.95\\r\\n167,\"Babies \"\"R\"\" Us\",Kids,Preschool Toys,Disney Frozen Ariel Body Board,F,16.99\\r\\n168,\"Babies \"\"R\"\" Us\",Kids,Preschool Toys,\"Lego Duplo Preschool Building Toy -\\r\\nTreasure Attack\",M,29.99\\r\\n169,\"Babies \"\"R\"\" Us\",Kids,Preschool Toys,\"Lego Duplo Preschool Building Toy - Horse\\r\\nStable\",F,32.99\\r\\n170,Kmart,Kids,Arts and Crafts,Step 2 2-In-1 Toy Box And Art Lid Pink,F,60.99\\r\\n171,Kmart,Kids,Arts and Crafts,Step 2 2-In-1 Toy Box And Art Lid - Tan,M,59.99\\r\\n172,Kmart,Kids,Arts and Crafts,Step 2 Easel For Two Pink,F,61.99\\r\\n173,Kmart,Kids,Arts and Crafts,Step 2 Easel For Two,M,54.99\\r\\n174,Kmart,Kids,Arts and Crafts,\"Play-Doh Sweet Shoppe Cake Mountain\\r\\nPlayset\",F,19.99\\r\\n175,Kmart,Kids,Arts and Crafts,\"Play-Doh Disney Star Wars Millennium\\r\\nFalcon Featuring Can-Heads\",M,19.99\\r\\n176,Kmart,Kids,Arts and Crafts,\"Play-Doh My Little Pony Rainbow Dash Style\\r\\nSalon Playset\",F,15.99\\r\\n177,Kmart,Kids,Arts and Crafts,\"Play-Doh Diggin\\' Rigs Tonka Chuck \\'N\\r\\nFriends Grinding Gravel Yard Set\",M,12.99\\r\\n178,Kmart,Kids,Backpacks,Disney Frozen Girl\\'s Backpack - Elsa,F,11.98\\r\\n179,Kmart,Kids,Backpacks,Disney Avengers Boy\\'s Backpack,M,9.98\\r\\n180,Kmart,Kids,Backpacks,\"Light Up Girls Backpack (Animal Print) - 16\"\"\",F,19.99\\r\\n181,Kmart,Kids,Backpacks,\"\"\"Bright Lights\"\" Light-Up Boys Skater\\r\\nBackpack\",M,19.99\\r\\n182,Kmart,Kids,Backpacks,\"Disney Frozen Girl\\'s Backpack & Lunch Bag\\r\\n- Anna & Elsa\",F,32.0\\r\\n183,Kmart,Kids,Backpacks,\"Disney Ultimate Spider-Man Web-Warriors\\r\\nBoy\\'s Backpack & Lunch Bag\",M,32.0\\r\\n184,Kmart,Kids,Bikes & Scooters,Princess Cozy Trailer,F,33.99\\r\\n185,Kmart,Kids,Bikes & Scooters,Little Tikes,M,32.99\\r\\n186,Kmart,Kids,Bikes & Scooters,RazorTM Lil\\' Kick Scooter,F,44.99\\r\\n187,Kmart,Kids,Bikes & Scooters,RazorTM Jr. Lil Kick Scooter - Blue,M,39.99\\r\\n188,Kmart,Kids,Bikes & Scooters,RazorTM E300-S Sweet Pea,F,299.99\\r\\n189,Kmart,Kids,Bikes & Scooters,RazorTM E300S Seated Electric Scooter,M,289.99\\r\\n190,Kmart,Kids,Bikes & Scooters,Disney Princess Folding Scooter,F,42.99\\r\\n191,Kmart,Kids,Bikes & Scooters,Cars Folding Scooter,M,44.99\\r\\n192,Kmart,Kids,General Toys,My First Craftsman 43 Pc. Power Drill Set,M,14.99\\r\\n193,Kmart,Kids,General Toys,\"Aww T-Rex Paint And Motorized 3D Puzzle\\r\\nAw-Pnt-Rexg Girl Blue\",F,14.99\\r\\n194,Kmart,Kids,General Toys,\"Aww T-Rex Paint And Motorized 3D Puzzle\\r\\nAw-Pnt-Rexb Boy Green\",M,14.99\\r\\n195,Kmart,Kids,General Toys,\"Jada Toys Just Girls 1:16 2010 Chevy\\r\\nCamaro Ss Remote Control Car\",F,24.99\\r\\n196,Kmart,Kids,General Toys,\"Jada Toys Big Time Muscle 96967 2010\\r\\nChevy Camaro Ss Rc, Yellow\",M,14.99\\r\\n197,Kmart,Kids,General Toys,Just Kidz Deluxe Cash Register - Pink,F,15.0\\r\\n198,Kmart,Kids,General Toys,Just Kidz Deluxe Boy\\'s Cash Register - Blue,M,15.0\\r\\n199,Kmart,Kids,General Toys,\"Just Kidz Glamour Girl And Her Cool Wheels\\r\\n- Blue Mustang Car\",F,11.0\\r\\n200,Kmart,Kids,General Toys,Just Kidz Battery Operated Fire Truck,M,10.0\\r\\n201,Kmart,Kids,General Toys,\"Jada Toys Just Girls Big Foot Remote\\r\\nControl Jeep\",F,29.99\\r\\n202,Kmart,Kids,General Toys,\"Jada Toys Jurassic World Remote Control\\r\\nJeep\",M,29.99\\r\\n203,Kmart,Kids,Preschool Toys,\"Mickey Mouse Clubhouse Mickey - Handy\\r\\nHelper Tool Box\",M,12.99\\r\\n204,Kmart,Kids,Preschool Toys,\"Mickey Mouse Clubhouse Minnie\\'s Winter\\r\\nBow-Tique\",F,14.99\\r\\n205,Target,Kids,Backpacks,\"Disney Princess Rolling Backpack - Pink\\r\\n(12\"\")\",F,19.99\\r\\n206,Target,Kids,Backpacks,\"Disney Cars Rolling Backpack - Red (12\"\")\",M,19.99\\r\\n207,Target,Kids,Backpacks,Circo Kids Adventure Pack - Girl,F,16.99\\r\\n208,Target,Kids,Backpacks,Circo Kids Adventure Print - Boy,M,16.99\\r\\n209,Target,Kids,Backpacks,J World Daisy Rolling Backpack - Pink,F,49.99\\r\\n210,Target,Kids,Backpacks,\"J World School Bus Rolling Backpack -\\r\\nYellow\",M,55.99\\r\\n211,Target,Kids,Backpacks,\"Wildkin Olive Kids Butterfly Garden Pack \\'N\\r\\nSnack Backpack\",F,27.99\\r\\n214,Target,Kids,Backpacks,Wildkin Olive Kids Pirates Pack \\'N Snack,M,27.99\\r\\n215,Target,Kids,Backpacks,Wildkin Olive Kids Birdie Sidekick Backpack,F,29.0\\r\\n216,Target,Kids,Backpacks,Wildkin Blue Camo Sidekick Backpack,M,24.99\\r\\n217,Target,Kids,Bikes & Scooters,Razor Berry Scooter - Pink/Purple,F,36.99\\r\\n218,Target,Kids,Bikes & Scooters,Razor Berry Scooter - Teal/Orange,M,34.99\\r\\n219,Target,Kids,Bikes & Scooters,\"Radio Flyer Girls My 1st Scooter Sparkle -\\r\\nPink\",F,49.99\\r\\n220,Target,Kids,Bikes & Scooters,Radio Flyer My 1st Scooter Sport - Red,M,24.99\\r\\n221,Target,Kids,Bikes & Scooters,\"Girl\\'s Classic Flyer Bike - Pink (12\"\")\",F,109.99\\r\\n222,Target,Kids,Bikes & Scooters,\"Boy\\'s Classic Flyer Bike - Red (12\"\")\",M,105.99\\r\\n223,Target,Kids,Bikes & Scooters,K20G Girls Bike,F,139.99\\r\\n224,Target,Kids,Bikes & Scooters,K20 Boys Bike,M,138.99\\r\\n225,Target,Kids,General Toys,\"La Newborn 15\"\" Real Girl Pink Polka Dot\",F,59.99\\r\\n226,Target,Kids,General Toys,\"La Newborn 15\"\" Real Boy With Brown Hair\",M,57.99\\r\\n227,Target,Kids,General Toys,Green Toys Dump Truck - Pink,F,20.99\\r\\n228,Target,Kids,General Toys,Green Toys Dump Truck,M,21.99\\r\\n229,Target,Kids,Helmets & Pads,Raskullz Unicorn Ride Alongz Toddler Helmet,F,27.99\\r\\n230,Target,Kids,Helmets & Pads,\"Raskullz Shark Attax Ride Alongz Toddler\\r\\nHelmet\",M,14.99\\r\\n231,Target,Kids,Helmets & Pads,\"Punisher Skateboards Neon Skateboard\\r\\nHelmet Pink\",F,39.99\\r\\n232,Target,Kids,Helmets & Pads,\"Punisher Skateboards Teddy Skateboard\\r\\nHelmet Black\",M,29.99\\r\\n233,Target,Kids,Helmets & Pads,Frozen 3D Tiara Child Bike Helmet,F,24.99\\r\\n234,Target,Kids,Helmets & Pads,Toddler Hlmt Spiderman Vp,M,18.99\\r\\n235,Target,Kids,Helmets & Pads,Razor V17 Youth Helmet Gloss - Magenta,F,19.99\\r\\n236,Target,Kids,Helmets & Pads,Razor Child Helmet - Green,M,19.99\\r\\n237,Target,Kids,Preschool Toys,Fisher-Price Disney Princess Figure Pack,F,19.59\\r\\n238,Target,Kids,Preschool Toys,\"Fisher-Price\\xc2\\xae Little People Dc Super Friends\\r\\nExclusive Figure\",M,19.99\\r\\n241,Target,Kids,Preschool Toys,\"Fisher-Price\\xc2\\xae Little People Happy Sounds\\r\\nHome\",F,19.99\\r\\n242,Target,Kids,Preschool Toys,Fisher-Price Little People Fire Station Playset,M,17.99\\r\\n243,Target,Kids,Preschool Toys,Lego Duplo Doc Mcstuffins Rosie 10605,F,19.99\\r\\n244,Target,Kids,Preschool Toys,\"Lego\\xc2\\xae Duplo\\xc2\\xae Super Heros SupermanTM\\r\\nRescue 10543\",M,16.99\\r\\n245,\"Toys \"\"R\"\" Us\",Kids,Arts and Crafts,\"Melissa & Doug Reusable Sticker Pad -\\r\\nDress Up\",F,4.99\\r\\n246,\"Toys \"\"R\"\" Us\",Kids,Arts and Crafts,\"Melissa & Doug Reusable Sticker Pad -\\r\\nHabitats\",M,4.99\\r\\n247,\"Toys \"\"R\"\" Us\",Kids,Backpacks,Minnie 16 Inch Pilot Rolling Case,F,21.99\\r\\n248,\"Toys \"\"R\"\" Us\",Kids,Backpacks,Star Wars Classic Pilot Suitcase,M,19.99\\r\\n249,\"Toys \"\"R\"\" Us\",Kids,Backpacks,\"Personalized Barney Glamour Pink\\r\\nBackpack\",F,29.99\\r\\n250,\"Toys \"\"R\"\" Us\",Kids,Backpacks,\"Personalized Barney Little Stars Blue\\r\\nBackpack\",M,29.99\\r\\n251,\"Toys \"\"R\"\" Us\",Kids,Bikes & Scooters,Razor Jr. Kiddie Kick Scooter - Pink,F,34.99\\r\\n252,\"Toys \"\"R\"\" Us\",Kids,Bikes & Scooters,Razor Jr. Kiddie Kick Scooter - Blue,M,32.99\\r\\n253,\"Toys \"\"R\"\" Us\",Kids,Bikes & Scooters,\"Razor Black Label Pink \"\"A\"\" Kick Scooter\",F,74.98\\r\\n254,\"Toys \"\"R\"\" Us\",Kids,Bikes & Scooters,Razor A Scooter - Black Label,M,69.99\\r\\n255,\"Toys \"\"R\"\" Us\",Kids,Bikes & Scooters,Smartrike\\xc2\\xae Delight 3 In 1 Trike - Pink,F,84.99\\r\\n256,\"Toys \"\"R\"\" Us\",Kids,Bikes & Scooters,Smartrike\\xc2\\xae Delight 3 In 1 Trike - Green,M,84.99\\r\\n257,\"Toys \"\"R\"\" Us\",Kids,General Toys,Playmobil Musical Flower Tower With Twinkle,F,59.99\\r\\n258,\"Toys \"\"R\"\" Us\",Kids,General Toys,Playmobil Pirate Fort With Ruby,M,59.99\\r\\n259,\"Toys \"\"R\"\" Us\",Kids,General Toys,Playmobil Fairy Queen\\'s Ship,F,37.99\\r\\n260,\"Toys \"\"R\"\" Us\",Kids,General Toys,\"Playmobil Skull And Bones Corsair Pirate\\r\\nShip\",M,24.99\\r\\n261,\"Toys \"\"R\"\" Us\",Kids,Helmets & Pads,Barbie Pad Set,F,19.99\\r\\n262,\"Toys \"\"R\"\" Us\",Kids,Helmets & Pads,Cars 2 Pad Set,M,19.99\\r\\n263,\"Toys \"\"R\"\" Us\",Kids,Helmets & Pads,Bell Sports Minnie Mouse Pad Set,F,19.99\\r\\n264,\"Toys \"\"R\"\" Us\",Kids,Helmets & Pads,Bell Sports Spider-Man Pad Set,M,19.99\\r\\n265,\"Toys \"\"R\"\" Us\",Kids,Helmets & Pads,Razor Daisy Pad Set,F,24.99\\r\\n268,\"Toys \"\"R\"\" Us\",Kids,Helmets & Pads,Razor Youth Pro Pad Set,M,24.99\\r\\n269,\"Toys \"\"R\"\" Us\",Kids,Helmets & Pads,Disney Princess Toddler Helmet,F,24.99\\r\\n270,\"Toys \"\"R\"\" Us\",Kids,Helmets & Pads,Cars Toddler Helmet,M,24.99\\r\\n271,\"Toys \"\"R\"\" Us\",Kids,Helmets & Pads,Minnie Mouse Toddler Helmet,F,24.99\\r\\n272,\"Toys \"\"R\"\" Us\",Kids,Helmets & Pads,Mickey Mouse Toddler Bike Helmet,M,24.99\\r\\n273,\"Toys \"\"R\"\" Us\",Kids,Helmets & Pads,Raskullz Peace Love Kitty Helmet,F,29.99\\r\\n274,\"Toys \"\"R\"\" Us\",Kids,Helmets & Pads,Raskullz Fin Hawk Helmet,M,29.99\\r\\n275,\"Toys \"\"R\"\" Us\",Kids,Preschool Toys,\"Lego Duplo Sofia The First Royal Stable\\r\\n(10594)\",F,26.99\\r\\n276,\"Toys \"\"R\"\" Us\",Kids,Preschool Toys,\"Lego Duplo My First Construction Site\\r\\nBuilding Set (10518)\",M,25.99\\r\\n281,\"Abercrombie &\\r\\nFitch\",Clothes,Dress Pants,A&F Skinny Chinos,F,58.0\\r\\n282,\"Abercrombie &\\r\\nFitch\",Clothes,Dress Pants,A&F Skinny Chinos,M,78.0\\r\\n283,\"Abercrombie &\\r\\nFitch\",Clothes,Dress Shirt,Classic Pocket Shirt,F,58.0\\r\\n284,\"Abercrombie &\\r\\nFitch\",Clothes,Dress Shirt,Classic Fit Oxford Shirt,M,68.0\\r\\n285,\"Abercrombie &\\r\\nFitch\",Clothes,Jeans,A&F Skinny Jeans,F,78.0\\r\\n286,\"Abercrombie &\\r\\nFitch\",Clothes,Jeans,A&F Skinny Zip Fly Jeans,M,78.0\\r\\n287,\"Abercrombie &\\r\\nFitch\",Clothes,Jeans,A&F Super Skinny Jeans,F,78.0\\r\\n288,\"Abercrombie &\\r\\nFitch\",Clothes,Jeans,A&F Super Skinny Zip Fly Jeans,M,78.0\\r\\n289,\"Abercrombie &\\r\\nFitch\",Clothes,Jeans,A&F Boot Jeans,F,78.0\\r\\n290,\"Abercrombie &\\r\\nFitch\",Clothes,Jeans,A&F Boot Button Fly Jeans,M,78.0\\r\\n291,\"Abercrombie &\\r\\nFitch\",Clothes,Shirt,Applique Logo Graphic Tee,F,34.0\\r\\n292,\"Abercrombie &\\r\\nFitch\",Clothes,Shirt,Applique Logo Graphic Tee,M,30.0\\r\\n293,\"Abercrombie &\\r\\nFitch\",Clothes,Shirt,Slim Long Sleeve Henley,F,28.0\\r\\n294,\"Abercrombie &\\r\\nFitch\",Clothes,Shirt,Muscle Fit Pocket Henley,M,28.0\\r\\n295,\"Abercrombie &\\r\\nFitch\",Clothes,Socks,Patterned Classic Socks,F,8.0\\r\\n296,\"Abercrombie &\\r\\nFitch\",Clothes,Socks,A&F Classic Socks,M,12.0\\r\\n297,\"Abercrombie &\\r\\nFitch\",Clothes,Socks,Ankle Socks Two-Pack,F,10.0\\r\\n299,A\\xc3\\xa9ropostale,Clothes,Dress Pants,Basic Pants,F,39.5\\r\\n300,A\\xc3\\xa9ropostale,Clothes,Dress Pants,Uniform Slim Straight Flat-Front Pants,M,44.5\\r\\n301,A\\xc3\\xa9ropostale,Clothes,Dress Shirt,Long Sleeve Solid Woven Shirt,F,44.5\\r\\n302,A\\xc3\\xa9ropostale,Clothes,Dress Shirt,Long Sleeve Solid Woven Shirt,M,49.5\\r\\n303,A\\xc3\\xa9ropostale,Clothes,Dress Shirt,Long Sleeve Solid Woven Shirt,F,44.5\\r\\n306,A\\xc3\\xa9ropostale,Clothes,Dress Shirt,Long Sleeve Oxford Woven Shirt,M,44.5\\r\\n307,A\\xc3\\xa9ropostale,Clothes,Jeans,Skinny Core Dark Wash Jean,F,39.5\\r\\n308,A\\xc3\\xa9ropostale,Clothes,Jeans,Skinny Dark Rinse Wash Jean,M,44.5\\r\\n309,A\\xc3\\xa9ropostale,Clothes,Shirt,Aero 87 Graphic T,F,24.5\\r\\n310,A\\xc3\\xa9ropostale,Clothes,Shirt,Times Square Logo Graphic T,M,24.5\\r\\n311,A\\xc3\\xa9ropostale,Clothes,Shirt,Aero 1987 Bar Stripe Jersey Polo,F,29.5\\r\\n312,A\\xc3\\xa9ropostale,Clothes,Shirt,Aero 87 Logo Striped Jersey Polo,M,34.5\\r\\n313,A\\xc3\\xa9ropostale,Clothes,Socks,Varsity Dot Crew Socks,F,10.5\\r\\n314,A\\xc3\\xa9ropostale,Clothes,Socks,Southwest Stripe Crew Socks,M,9.5\\r\\n315,A\\xc3\\xa9ropostale,Clothes,Socks,3-Pack Basic Ped Socks,F,10.5\\r\\n316,A\\xc3\\xa9ropostale,Clothes,Socks,3-Pack A87 Ankle Socks,M,12.5\\r\\n317,A\\xc3\\xa9ropostale,Clothes,Sweater,Shawl Cardigan,F,54.5\\r\\n318,A\\xc3\\xa9ropostale,Clothes,Sweater,Solid Knit Uniform Cardigan,M,49.5\\r\\n319,A\\xc3\\xa9ropostale,Clothes,Sweater,Long Sleeve Textured Crew-Neck Sweater,F,49.5\\r\\n320,A\\xc3\\xa9ropostale,Clothes,Sweater,Solid Crew Neck Sweater,M,44.5\\r\\n321,A\\xc3\\xa9ropostale,Clothes,Underwear,Solid Aero Bikini,F,8.5\\r\\n322,A\\xc3\\xa9ropostale,Clothes,Underwear,Solid Boxer Briefs,M,12.5\\r\\n323,A\\xc3\\xa9ropostale,Clothes,Underwear,Logo Boyshort,F,8.5\\r\\n324,A\\xc3\\xa9ropostale,Clothes,Underwear,Solid Knit Trunks,M,12.5\\r\\n325,\"American\\r\\nApparel\",Clothes,Dress Shirt,Classic Button Down Shirt,F,74.0\\r\\n326,\"American\\r\\nApparel\",Clothes,Dress Shirt,Poplin Classic Long Sleeve Button-Down,M,72.0\\r\\n327,\"American\\r\\nApparel\",Clothes,Shirt,Ultra Wash Tee,F,28.0\\r\\n328,\"American\\r\\nApparel\",Clothes,Shirt,Power Washed Tee,M,26.0\\r\\n329,\"American\\r\\nApparel\",Clothes,Sweater,Women\\'s Cable Knit Pullover,F,70.0\\r\\n330,\"American\\r\\nApparel\",Clothes,Sweater,Men\\'s Cable Knit Sweater,M,78.0\\r\\n333,\"American\\r\\nApparel\",Clothes,Underwear,Cotton Spandex Jersey Boy Brief,F,13.0\\r\\n334,\"American\\r\\nApparel\",Clothes,Underwear,Baby Rib Brief,M,14.0\\r\\n335,\"American Eagle\\r\\nOutfitters\",Clothes,Dress Shirt,Aeo Long Sleeve Oxford Shirt,F,39.95\\r\\n336,\"American Eagle\\r\\nOutfitters\",Clothes,Dress Shirt,Aeo Solid Poplin Button Down Shirt,M,39.95\\r\\n337,\"American Eagle\\r\\nOutfitters\",Clothes,Jeans,Aeo Denim X Kick Boot Jean,F,44.95\\r\\n338,\"American Eagle\\r\\nOutfitters\",Clothes,Jeans,Classic Bootcut Jean,M,39.95\\r\\n339,\"American Eagle\\r\\nOutfitters\",Clothes,Jeans,Straight Jean,F,44.95\\r\\n340,\"American Eagle\\r\\nOutfitters\",Clothes,Jeans,Original Straight Jean,M,44.95\\r\\n341,\"American Eagle\\r\\nOutfitters\",Clothes,Jeans,Skinny Jean,F,39.95\\r\\n342,\"American Eagle\\r\\nOutfitters\",Clothes,Jeans,Skinny Active Flex Jean,M,49.95\\r\\n343,\"American Eagle\\r\\nOutfitters\",Clothes,Shirt,Aeo Favorite V-Neck Tshirt,F,17.95\\r\\n344,\"American Eagle\\r\\nOutfitters\",Clothes,Shirt,Aeo Legend V-Neck Tshirt,M,15.95\\r\\n345,\"American Eagle\\r\\nOutfitters\",Clothes,Shirt,Aeo Favorite Pocket T-Shirt,F,17.95\\r\\n346,\"American Eagle\\r\\nOutfitters\",Clothes,Shirt,Aeo Legend Pocket T-Shirt,M,15.95\\r\\n347,\"American Eagle\\r\\nOutfitters\",Clothes,Socks,Aeo Shortie Socks 3-Pack,F,12.95\\r\\n348,\"American Eagle\\r\\nOutfitters\",Clothes,Socks,Aeo Low Cut Socks 3-Pack,M,12.5\\r\\n349,\"American Eagle\\r\\nOutfitters\",Clothes,Socks,Aeo Patterned Crew Socks,F,7.95\\r\\n350,\"American Eagle\\r\\nOutfitters\",Clothes,Socks,Aeo Patterned Crew Socks,M,6.5\\r\\n351,\"American Eagle\\r\\nOutfitters\",Clothes,Socks,Aeo No Show Socks 3-Pack,F,12.95\\r\\n352,\"American Eagle\\r\\nOutfitters\",Clothes,Socks,Aeo Invisible Socks 3-Pack,M,12.5\\r\\n353,\"American Eagle\\r\\nOutfitters\",Clothes,Underwear,Aerie Boybrief,F,7.5\\r\\n354,\"American Eagle\\r\\nOutfitters\",Clothes,Underwear,Aeo Classic Brief,M,12.5\\r\\n355,\"American Eagle\\r\\nOutfitters\",Clothes,Underwear,Aerie Signature Bikini,F,7.5\\r\\n356,\"American Eagle\\r\\nOutfitters\",Clothes,Underwear,Aeo Solid Low Rise Trunk,M,12.5\\r\\n357,Banana Republic,Clothes,Dress Pants,Navy Lightweight Wool Boy-Fit Straight Leg,F,98.0\\r\\n360,Banana Republic,Clothes,Dress Pants,Modern Slim Blue Wool Dress Pant,M,98.5\\r\\n361,Banana Republic,Clothes,Dress Pants,\"Martin-Fit Black Lightweight Wool Straight\\r\\nLeg\",F,98.0\\r\\n362,Banana Republic,Clothes,Dress Pants,Classic Fit Solid Wool Trouser,M,98.5\\r\\n363,Banana Republic,Clothes,Dress Shirt,Fitted Non-Iron Sateen Shirt,F,69.5\\r\\n364,Banana Republic,Clothes,Dress Shirt,Classic-Fit Non-Iron Solid Shirt,M,79.5\\r\\n365,Banana Republic,Clothes,Jeans,Medium Wash Skinny Jean,F,98.0\\r\\n366,Banana Republic,Clothes,Jeans,Skinny Washed Indigo Jean,M,89.5\\r\\n367,Banana Republic,Clothes,Shirt,New Essential Vee,F,24.5\\r\\n368,Banana Republic,Clothes,Shirt,Soft-Wash Vee Tee,M,26.5\\r\\n369,Banana Republic,Clothes,Shirt,New Essential Crew,F,24.5\\r\\n370,Banana Republic,Clothes,Shirt,Soft-Wash Classic Crew,M,26.5\\r\\n371,Banana Republic,Clothes,Socks,Glasses Bootie Sock,F,10.5\\r\\n372,Banana Republic,Clothes,Socks,Performance Ankle Sock,M,12.5\\r\\n373,Banana Republic,Clothes,Socks,Double-Stripe Tube Sock,F,12.5\\r\\n374,Banana Republic,Clothes,Socks,Jungle Stripe Sock,M,12.5\\r\\n375,Banana Republic,Clothes,Sweater,Cutout-Front Crew Pullover,F,89.5\\r\\n376,Banana Republic,Clothes,Sweater,Ribbed Crew Pullover,M,79.5\\r\\n377,Banana Republic,Clothes,Sweater,Ribbed Extra-Fine Merino Wool Pullover,F,69.5\\r\\n378,Banana Republic,Clothes,Sweater,\"Striped Extra-Fine Merino Wool Crew\\r\\nPullover\",M,69.5\\r\\n379,Club Monaco,Clothes,Dress Pants,Emily Pant,F,169.5\\r\\n380,Club Monaco,Clothes,Dress Pants,Davis Dress Chino,M,98.5\\r\\n381,Club Monaco,Clothes,Dress Pants,Lutecia Trouser,F,149.5\\r\\n382,Club Monaco,Clothes,Dress Pants,Selvedge Chino,M,168.0\\r\\n383,Club Monaco,Clothes,Dress Pants,Gaios Trouser,F,189.5\\r\\n384,Club Monaco,Clothes,Dress Pants,Connor M\\xc3\\xa9lange Dress Trouser,M,149.5\\r\\n387,Club Monaco,Clothes,Dress Shirt,Claudia Cotton Shirt,F,149.5\\r\\n388,Club Monaco,Clothes,Dress Shirt,Slim-Fit Oxford Dress Shirt,M,89.5\\r\\n389,Club Monaco,Clothes,Dress Shirt,Susan Shirt,F,139.5\\r\\n390,Club Monaco,Clothes,Dress Shirt,Classic-Fit Pinstriped Shirt,M,79.5\\r\\n391,Club Monaco,Clothes,Sweater,Bronwen Cardigan,F,169.5\\r\\n392,Club Monaco,Clothes,Sweater,Donegal Full Cardigan,M,159.5\\r\\n393,Club Monaco,Clothes,Sweater,Casey Cable Sweater,F,159.5\\r\\n394,Club Monaco,Clothes,Sweater,Donegal Crew Sweater,M,129.5\\r\\n395,Gap,Clothes,Dress Pants,Pinstripe Modern Trouser,F,69.95\\r\\n396,Gap,Clothes,Dress Pants,Herringbone Wool-Blend Pants (Slim Fit),M,69.95\\r\\n397,Gap,Clothes,Dress Pants,Broken-In Straight Khakis,F,49.95\\r\\n398,Gap,Clothes,Dress Pants,The Khaki (Straight Fit),M,59.95\\r\\n399,Gap,Clothes,Dress Shirt,Tailored Shirt,F,49.95\\r\\n400,Gap,Clothes,Dress Shirt,Solid Oxford Shirt (Slim Fit),M,49.95\\r\\n401,Gap,Clothes,Dress Shirt,Shrunken Boyfriend Shirt,F,49.95\\r\\n402,Gap,Clothes,Dress Shirt,Striped Modern Oxford Shirt,M,49.95\\r\\n403,Gap,Clothes,Jeans,1969 Real Straight Jeans,F,69.95\\r\\n404,Gap,Clothes,Jeans,1969 Straight Fit Jeans,M,59.95\\r\\n405,Gap,Clothes,Jeans,1969 Resolution True Skinny High-Rise Jean,F,69.95\\r\\n406,Gap,Clothes,Jeans,1969 Skinny Fit Jeans,M,69.95\\r\\n407,Gap,Clothes,Jeans,1969 Perfect Boot Jeans,F,69.95\\r\\n408,Gap,Clothes,Jeans,1969 Boot Fit Jeans,M,59.95\\r\\n409,Gap,Clothes,Jeans,1969 Modern Stretch True Skinny Cords,F,59.95\\r\\n410,Gap,Clothes,Jeans,1969 Black Fill Cords (Straight Fit),M,59.95\\r\\n411,Gap,Clothes,Jeans,1969 Resolution Slim Straight Jeans,F,69.95\\r\\n414,Gap,Clothes,Jeans,\"1969 Skinny Fit Jeans (Soft Scrape Dark\\r\\nIndigo Wash)\",M,69.95\\r\\n415,Gap,Clothes,Jeans,1969 Knit True Skinny Jeans,F,79.95\\r\\n416,Gap,Clothes,Jeans,1969 Straight Fit Jeans (Resin Rinse),M,69.95\\r\\n417,Gap,Clothes,Shirt,Favorite Short-Sleeve Crew Tee,F,16.95\\r\\n418,Gap,Clothes,Shirt,Essential Solid Crew T-Shirt,M,16.5\\r\\n419,Gap,Clothes,Shirt,Favorite Long-Sleeve V-Neck Tee,F,19.95\\r\\n420,Gap,Clothes,Shirt,Essential Long-Sleeve Crewneck T-Shirt,M,19.95\\r\\n421,Gap,Clothes,Shirt,Washed Lace Pullover,F,49.95\\r\\n422,Gap,Clothes,Shirt,Lived-In Crew Sweatshirt,M,44.95\\r\\n423,Gap,Clothes,Shirt,Flannel Plaid Relaxed Boyfriend Shirt,F,54.95\\r\\n424,Gap,Clothes,Shirt,Herringbone Wythe Plaid Shirt,M,54.95\\r\\n425,Gap,Clothes,Socks,Sport Socks (2 Pack),F,3.98\\r\\n426,Gap,Clothes,Socks,Ankle Socks (3-Pack),M,4.0\\r\\n427,Gap,Clothes,Socks,Trouser Socks,F,7.95\\r\\n428,Gap,Clothes,Socks,Flat Knit Socks (3-Pack),M,6.0\\r\\n429,Gap,Clothes,Socks,Polka Dot Crew Socks,F,7.95\\r\\n430,Gap,Clothes,Socks,Motorcycle Socks,M,7.95\\r\\n431,Gap,Clothes,Sweater,Stripe Open-Front Cardigan,F,69.95\\r\\n432,Gap,Clothes,Sweater,Cotton Cashmere Shawl Cardigan,M,59.95\\r\\n433,Gap,Clothes,Sweater,Mockneck Cable-Knit Sweater,F,69.95\\r\\n434,Gap,Clothes,Sweater,Marled Chunky Cableknit Crew Sweater,M,64.95\\r\\n435,Gap,Clothes,Underwear,Basic Boxer Briefs (3-Pack) If 1,M,9.98\\r\\n436,Gap,Clothes,Underwear,Ultra Low Girl Shorts,F,14.5\\r\\n437,Gap,Clothes,Underwear,Basic Briefs (3-Pack) If 1,M,8.31\\r\\n438,Gap,Clothes,Underwear,Low-Rise Bikini,F,8.5\\r\\n441,H&M,Clothes,Dress Pants,Slacks Tapered Fit,F,29.99\\r\\n442,H&M,Clothes,Dress Pants,Chinos Slim Fit,M,29.99\\r\\n443,H&M,Clothes,Dress Shirt,Cotton Shirt,F,24.99\\r\\n444,H&M,Clothes,Dress Shirt,Premium Cotton Shirt,M,24.95\\r\\n445,H&M,Clothes,Dress Shirt,Cotton Shirt,F,24.99\\r\\n446,H&M,Clothes,Dress Shirt,Shirt In Premium Cotton,M,29.99\\r\\n447,H&M,Clothes,Jeans,Boot Cut Low Jeans,F,39.99\\r\\n448,H&M,Clothes,Jeans,Boot Cut Low Jeans,M,39.99\\r\\n449,H&M,Clothes,Jeans,Skinny Regular Jeans,F,29.95\\r\\n450,H&M,Clothes,Jeans,Jeans Skinny Fit,M,29.99\\r\\n451,H&M,Clothes,Jeans,Jeans Straight Fit,F,49.99\\r\\n452,H&M,Clothes,Jeans,Straight Regular Jeans,M,19.95\\r\\n453,H&M,Clothes,Shirt,Jersey Tank Top,F,5.99\\r\\n454,H&M,Clothes,Shirt,Tank Top,M,5.99\\r\\n455,H&M,Clothes,Shirt,Jersey Top,F,9.99\\r\\n456,H&M,Clothes,Shirt,T-Shirt,M,9.99\\r\\n457,H&M,Clothes,Socks,5-Pack Ankle Socks,F,7.99\\r\\n458,H&M,Clothes,Socks,4-Pack Ankle Socks,M,4.99\\r\\n459,H&M,Clothes,Socks,5-Pack Socks,F,9.99\\r\\n460,H&M,Clothes,Socks,5-Pack Socks,M,9.99\\r\\n461,H&M,Clothes,Sweater,Rib-Knit Sweater,F,17.99\\r\\n462,H&M,Clothes,Sweater,Fine-Knit Sweater,M,17.99\\r\\n463,H&M,Clothes,Underwear,3-Pack Cotton Hipster Briefs,F,9.99\\r\\n464,H&M,Clothes,Underwear,3-Pack Men\\'s Briefs,M,17.95\\r\\n465,H&M,Clothes,Underwear,3-Pack Cotton Boy Shorts,F,12.99\\r\\n468,H&M,Clothes,Underwear,3-Pack Boxer Shorts,M,12.99\\r\\n469,J.Crew,Clothes,Dress Pants,Campbell Trouser In Bi-Stretch Cotton,F,98.0\\r\\n470,J.Crew,Clothes,Dress Pants,Bowery Slim Pant In Black Watch Cotton,M,88.0\\r\\n471,J.Crew,Clothes,Dress Pants,\"Campbell Trouser In Pinstripe Super 120S\\r\\nWool\",F,148.0\\r\\n472,J.Crew,Clothes,Dress Pants,Bowery Slim Pant In Wool,M,128.0\\r\\n473,J.Crew,Clothes,Dress Shirt,Favorite Shirt,F,78.0\\r\\n474,J.Crew,Clothes,Dress Shirt,Ludlow Spread-Collar Shirt,M,88.0\\r\\n475,J.Crew,Clothes,Sweater,Merino Wool V-Neck Sweater,F,79.5\\r\\n476,J.Crew,Clothes,Sweater,Merino Wool V-Neck Sweater,M,78.0\\r\\n477,Kmart,Clothes,Dress Pants,Basic Editions Women\\'s Trousers,F,21.99\\r\\n478,Kmart,Clothes,Dress Pants,Basic Editions Men\\'s Pleated Pant,M,18.99\\r\\n479,Kmart,Clothes,Dress Pants,Attention Women\\'s Slim Fit Dress Pants,F,26.99\\r\\n480,Kmart,Clothes,Dress Pants,Attention Men\\'s Stretch Dress Pants,M,26.99\\r\\n481,Kmart,Clothes,Dress Shirt,\"Basic Editions Women\\'s Button-Front Shirt -\\r\\nStriped\",F,21.99\\r\\n482,Kmart,Clothes,Dress Shirt,\"Basic Editions Men\\'s Long-Sleeve Dress\\r\\nShirt\",M,13.98\\r\\n483,Kmart,Clothes,Socks,\"Joe Boxer Women\\'s Socks 5Pk Super Soft\\r\\nQuarter White Pink\",F,6.99\\r\\n484,Kmart,Clothes,Socks,\"Joe Boxer Men\\'s Low Cut Cushioned Socks\\r\\n- 5 Pairs Sizes 10-13\",M,6.99\\r\\n485,Kmart,Clothes,Sweater,Basic Editions Women\\'s Turtleneck Sweater,F,21.99\\r\\n486,Kmart,Clothes,Sweater,\"Basic Editions Men\\'s Mock Neck Pullover\\r\\nSweater\",M,34.99\\r\\n487,Kmart,Clothes,Underwear,\"Joe Boxer Women\\'s 6-Pack Hipster Panties\\r\\n- Solids & Prints (If 4)\",F,6.66\\r\\n488,Kmart,Clothes,Underwear,Joe Boxer Men\\'s 4-Pairs Ringer Briefs,M,10.99\\r\\n489,Kmart,Clothes,Underwear,\"Joe Boxer Women\\'s 2-Pairs Boy Short\\r\\nPanties - Hearts\",F,9.99\\r\\n490,Kmart,Clothes,Underwear,Joe Boxer Men\\'s Ringer Boxer Briefs 2 Pairs,M,8.99\\r\\n491,Levi\\'s,Clothes,Dress Pants,Boyfriend Chinos,F,54.5\\r\\n492,Levi\\'s,Clothes,Dress Pants,Chino Pants,M,58.0\\r\\n495,Levi\\'s,Clothes,Dress Shirt,Classic One Pocket Shirt,F,68.0\\r\\n496,Levi\\'s,Clothes,Dress Shirt,Sunset One Pocket Shirt,M,58.0\\r\\n497,Levi\\'s,Clothes,Dress Shirt,One Pocket Boyfriend Shirt,F,78.0\\r\\n498,Levi\\'s,Clothes,Dress Shirt,Classic One Pocket Shirt,M,48.0\\r\\n499,Levi\\'s,Clothes,Jeans,712 Slim Jeans,F,88.0\\r\\n500,Levi\\'s,Clothes,Jeans,511 Slim Fit Jeans,M,68.0\\r\\n501,Levi\\'s,Clothes,Jeans,715 Boot Cut Jeans,F,78.0\\r\\n502,Levi\\'s,Clothes,Jeans,517 Boot Cut Jeans,M,58.0\\r\\n503,Levi\\'s,Clothes,Jeans,714 Straight Jeans,F,78.0\\r\\n504,Levi\\'s,Clothes,Jeans,501 Original Fit Jeans,M,68.0\\r\\n505,Levi\\'s,Clothes,Jeans,721 High Rise Skinny Jeans,F,88.0\\r\\n506,Levi\\'s,Clothes,Jeans,510TM Skinny Fit Jeans,M,68.0\\r\\n507,Levi\\'s,Clothes,Jeans,501 Ct Jeans For Women,F,88.0\\r\\n508,Levi\\'s,Clothes,Jeans,501 Ct Jeans,M,78.0\\r\\n509,Levi\\'s,Clothes,Shirt,The Perfect Tee,F,28.0\\r\\n510,Levi\\'s,Clothes,Shirt,Levi\\'s Housemark Tee,M,28.0\\r\\n511,Levi\\'s,Clothes,Shirt,The Perfect Pocket Tee,F,44.0\\r\\n512,Levi\\'s,Clothes,Shirt,Sunset Pocket Tee,M,28.0\\r\\n513,Levi\\'s,Clothes,Shirt,Levi\\'s \\xc2\\xae Commuter Raglan Tee,F,58.0\\r\\n514,Levi\\'s,Clothes,Shirt,Levi\\'s\\xc2\\xae CommuterTM Drop Hem Tee,M,38.0\\r\\n515,Levi\\'s,Clothes,Sweater,Polka Dot Sweatshirt,F,64.0\\r\\n516,Levi\\'s,Clothes,Sweater,Levi\\'s\\xc2\\xae Housemark Pullover Hoodie,M,48.0\\r\\n517,Levi\\'s,Clothes,Sweater,V-Neck Cardigan Sweater,F,98.0\\r\\n518,Levi\\'s,Clothes,Sweater,Brushed Crew Sweater,M,88.0\\r\\n519,Old Navy,Clothes,Dress Pants,Skinny Khakis,F,24.94\\r\\n522,Old Navy,Clothes,Dress Pants,Men\\'s New Classic Straight-Leg Khakis,M,29.94\\r\\n523,Old Navy,Clothes,Dress Shirt,Classic Oxford Shirt,F,24.94\\r\\n524,Old Navy,Clothes,Dress Shirt,Classic Regular-Fit Shirt,M,29.94\\r\\n525,Old Navy,Clothes,Jeans,Original Straight Jeans,F,29.94\\r\\n526,Old Navy,Clothes,Jeans,Men\\'s Straight-Fit Jeans,M,29.94\\r\\n527,Old Navy,Clothes,Socks,Go-Dry Performance Socks 3-Packs,F,10.0\\r\\n528,Old Navy,Clothes,Socks,Men\\'s Go-Dry Running Sock 3-Pack,M,9.94\\r\\n529,Old Navy,Clothes,Sweater,V-Neck Cardigan,F,24.94\\r\\n530,Old Navy,Clothes,Sweater,Men\\'s V-Neck Cardigans,M,32.94\\r\\n531,Old Navy,Clothes,Sweater,Women\\'s Striped Crew-Neck Sweater,F,39.94\\r\\n532,Old Navy,Clothes,Sweater,Men\\'s Striped Crew-Neck Sweaters,M,34.94\\r\\n533,Old Navy,Clothes,Underwear,Jersey Bikini 3-Packs If 1,F,4.31\\r\\n534,Old Navy,Clothes,Underwear,Men\\'s Solid Trunks,M,9.94\\r\\n535,Old Navy,Clothes,Underwear,Jersey Hipster 3-Packs,F,4.31\\r\\n536,Old Navy,Clothes,Underwear,Men\\'s Patterned Boxers,M,9.94\\r\\n537,Target,Clothes,Dress Pants,\"Women\\'s Classic Ankle Pant Gazelle Brown\\r\\n- MeronaTM\",F,27.99\\r\\n538,Target,Clothes,Dress Pants,Men\\'s Slim Fit Chino Khaki - Mossimo,M,29.99\\r\\n539,Target,Clothes,Dress Shirt,Women\\'s Favorite Shirt Merona,F,22.99\\r\\n540,Target,Clothes,Dress Shirt,Merona Men\\'s Button Down Shirt,M,24.99\\r\\n541,Target,Clothes,Jeans,\"Mid-Rise Straight Leg Jeans (Modern Fit) -\\r\\nMossimo\\xc2\\xae\",F,27.99\\r\\n542,Target,Clothes,Jeans,\"Men\\'s Slim Straight Jeans - Mossimo Supply\\r\\nCo\",M,24.99\\r\\n543,Target,Clothes,Socks,\"Women\\'s Casual Crew Socks 3 Pk Ebony\\r\\n4-10 - MeronaTM\",F,8.0\\r\\n544,Target,Clothes,Socks,\"Men\\'s Stripe Socks Blue Melange -\\r\\nMeronaTM 6-12 (3 Pack)\",M,9.29\\r\\n545,Target,Clothes,Sweater,Scoopneck Sweater - Mossimo Supply Co.,F,19.99\\r\\n546,Target,Clothes,Sweater,\"Men\\'s Varsity Crew Sweater Mountain Red -\\r\\nMossimo Supply Co.\",M,24.99\\r\\n549,Target,Clothes,Underwear,\"C9 Champion\\xc2\\xae Women\\'s Seamless\\r\\nPerformance Sport Briefs 2-Pack (If 1)\",F,7.0\\r\\n550,Target,Clothes,Underwear,\"C9 By Champion \\xc2\\xae - Men\\'s 3-Pack Briefs\\r\\nBlack/Grey (If 1)\",M,7.99\\r\\n551,Target,Clothes,Underwear,\"Fruit Of The Loom Women\\'s BeyondsoftTM\\r\\nWith Comfort Covered Waistband Boyshort\\r\\n5-Pack - If 6\",F,11.99\\r\\n552,Target,Clothes,Underwear,\"Fruit Of The Loom\\xc2\\xae - Men\\'s 6Pk Briefs\\r\\nAssorted Multi-Colored\",M,13.99\\r\\n553,Target,Clothes,Underwear,Women\\'s Seamless Boyshort - Xhilaration\\xc2\\xae,F,5.0\\r\\n554,Target,Clothes,Underwear,Men\\'s Boxer Brief - Mossimo Supply Co.,M,5.99\\r\\n555,Uniqlo,Clothes,Dress Pants,Women Idlf Straight Pants,F,59.9\\r\\n556,Uniqlo,Clothes,Dress Pants,Men Stretch Wool Slim Fit Flat Front Pants,M,59.9\\r\\n557,Uniqlo,Clothes,Dress Pants,Women Idlf Chino Pants,F,39.9\\r\\n558,Uniqlo,Clothes,Dress Pants,\"Men Vintage Regular Fit Chino Flat Front\\r\\nPants\",M,39.9\\r\\n559,Uniqlo,Clothes,Dress Shirt,\"Women Supima Cotton Stretch Long Sleeve\\r\\nShirt\",F,39.9\\r\\n560,Uniqlo,Clothes,Dress Shirt,\"Men Easy Care Stretch Slim Fit Broadcloth\\r\\nLong Sleeve Shirt\",M,39.9\\r\\n561,Uniqlo,Clothes,Jeans,Women Heattech Skinny Fit Jeans,F,49.9\\r\\n562,Uniqlo,Clothes,Jeans,Men Heattech Slim Fit Straight Jeans,M,49.9\\r\\n563,Uniqlo,Clothes,Socks,Women Short Socks 3 Pairs (Dot Stripe),F,12.9\\r\\n564,Uniqlo,Clothes,Socks,Men Pile Checked Short Socks,M,12.9\\r\\n565,Uniqlo,Clothes,Sweater,\"Women Extra Fine Merino Crew Neck\\r\\nSweater\",F,29.9\\r\\n566,Uniqlo,Clothes,Sweater,Men Extra Fine Merino Crew Neck Sweater,M,39.9\\r\\n567,Uniqlo,Clothes,Sweater,Women Lambswool Crewneck Sweater,F,29.9\\r\\n568,Uniqlo,Clothes,Sweater,Men Lambswool Crewneck Sweater,M,29.9\\r\\n569,Uniqlo,Clothes,Sweater,\"Women Cotton Cashmere Cable Crewneck\\r\\nSweater\",F,39.9\\r\\n570,Uniqlo,Clothes,Sweater,Men Cable Crewneck Sweater,M,39.9\\r\\n571,Uniqlo,Clothes,Underwear,Women Bikini (Basic),F,6.45\\r\\n572,Uniqlo,Clothes,Underwear,Men Supima Cotton Striped Briefs,M,6.45\\r\\n575,Uniqlo,Clothes,Underwear,Women Boy Shorts,F,6.45\\r\\n576,Uniqlo,Clothes,Underwear,Men Supima Cotton Striped Boxer Briefs,M,6.45\\r\\n577,Urban Outfitters,Clothes,Dress Pants,Bdg Cole Chino Pant,F,59.0\\r\\n578,Urban Outfitters,Clothes,Dress Pants,\"Cpo Double Faced Melange Skinny\\r\\nChino Pant\",M,59.0\\r\\n579,Urban Outfitters,Clothes,Dress Shirt,Bdg Jessie Button-Down Shirt,F,59.0\\r\\n580,Urban Outfitters,Clothes,Dress Shirt,Cpo Classic Oxford Button-Down Shirt,M,49.0\\r\\n581,Urban Outfitters,Clothes,Shirt,Bdg Classic Heathered Crew Tee,F,34.0\\r\\n582,Urban Outfitters,Clothes,Shirt,Bdg Galaxy Standard-Fit Crew Neck Tee,M,18.0\\r\\n583,Urban Outfitters,Clothes,Shirt,Bdg Sally Pocket Tee,F,34.0\\r\\n584,Urban Outfitters,Clothes,Shirt,Bdg Rolled Cap-Sleeve Standard-Fit Tee,M,18.0\\r\\n585,Urban Outfitters,Clothes,Socks,Multicolor Pattern Crew Sock,F,14.0\\r\\n586,Urban Outfitters,Clothes,Socks,Lightweight Fair Isle Crew Sock,M,8.0\\r\\n587,Urban Outfitters,Clothes,Socks,Solid Thermal Stitch Boot Sock,F,14.0\\r\\n588,Urban Outfitters,Clothes,Socks,Sweater Stripe Sock,M,12.0\\r\\n589,Urban Outfitters,Clothes,Sweater,Bdg Parker Cardigan,F,59.0\\r\\n590,Urban Outfitters,Clothes,Sweater,Bdg Lightweight Cardigan,M,44.0\\r\\n591,Urban Outfitters,Clothes,Underwear,Blake Printed Boyshort,F,8.0\\r\\n592,Urban Outfitters,Clothes,Underwear,Tonal Taped Trunk,M,12.0\\r\\n593,Urban Outfitters,Clothes,Underwear,Taylor Dolphin Hipster,F,8.0\\r\\n594,Urban Outfitters,Clothes,Underwear,Buffalo Plaid Boxer Brief,M,12.0\\r\\n597,CVS,Beauty,Body Wash,\"Purely Pampering Shea Butter with\\r\\nWarm Vanilla Beauty Bar\",F,9.49\\r\\n598,CVS,Beauty,Body Wash,\"Men+Care Aqua Impact Body and\\r\\nFace Bar\",M,9.49\\r\\n599,CVS,Beauty,Body Wash,\"Go Fresh Restore Body Wash, Blue\\r\\nFig & Orange Blossom Scent\",F,8.99\\r\\n600,CVS,Beauty,Body Wash,Men+Care Clean Comfort Body Wash,M,8.99\\r\\n601,CVS,Beauty,Body Wash,\"Touch of Serenity Moisturizing Body\\r\\nWash Hibiscus Blossom Scent & Aloe\\r\\nEssence\",F,4.0\\r\\n602,CVS,Beauty,Body Wash,Nivea for Men Body Wash Energy,M,4.0\\r\\n603,CVS,Beauty,Body Wash,\"Creamy Cocoa Butter & Shea Butter\\r\\nMoisturizing Body Wash\",F,2.77\\r\\n604,CVS,Beauty,Body Wash,Men\\'s Sport Recharge Body Wash,M,2.77\\r\\n605,CVS,Beauty,Deodorant,\"Clinical Strength Antiperspirant,\\r\\nGreen Tea & Cucumber Scent\",F,7.99\\r\\n606,CVS,Beauty,Deodorant,\"Clinical Strength Waterproof\\r\\nAntiperspirant & Deodorant For Men,\\r\\nUltra Fresh Scent\",M,7.99\\r\\n607,CVS,Beauty,Deodorant,\"Women Anti-Perspirant Deodorant\\r\\nInvisible Solid Shower Clean\",F,3.99\\r\\n608,CVS,Beauty,Deodorant,\"Men Ultra Dry Anti-Perspirant\\r\\nDeodorant Invisible Stick Sport\",M,3.79\\r\\n609,CVS,Beauty,Deodorant,\"Go Fresh Anti-Perspirant Deodorant\\r\\nUltimate Clear Cool Essentials\",F,4.99\\r\\n610,CVS,Beauty,Deodorant,\"Men + Care Clean Comfort Powerful\\r\\nProtection Antiperspirant\",M,5.29\\r\\n611,CVS,Beauty,Hair Care,\"Professionals Moroccan Infusion\\r\\nShine Shampoo (& conditioner)\",F,7.98\\r\\n612,CVS,Beauty,Hair Care,\"Professionals Men 2 In 1 Shampoo +\\r\\nConditioner\",M,2.67\\r\\n613,CVS,Beauty,Hair Care,Bed Head Resurrection Shampoo,F,18.99\\r\\n614,CVS,Beauty,Hair Care,Bed Head Men Clean Up Shampoo,M,14.2\\r\\n615,CVS,Beauty,Lotion,Healthy Skin Face Lotion Spf 15,F,15.99\\r\\n616,CVS,Beauty,Lotion,Men Triple Protect Face Lotion Spf 20,M,10.28\\r\\n617,CVS,Beauty,Lotion,\"Smooth Sensation Body Lotion Shea\\r\\nButter & HYDRA IQ\",F,6.49\\r\\n618,CVS,Beauty,Lotion,\"Men Maximum Hydration Body Lotion\\r\\n3 in 1 Body Face & Hands\",M,6.49\\r\\n621,CVS,Beauty,Razor,\"3 Blade Disposable Razors for\\r\\nWomen Lavender\",F,5.29\\r\\n622,CVS,Beauty,Razor,\"3 Blade Disposable Razors for\\r\\nSensitive Skin\",M,4.99\\r\\n623,CVS,Beauty,Razor,Venus Embrace Razor,F,13.79\\r\\n624,CVS,Beauty,Razor,Fusion Manual Razor,M,9.99\\r\\n625,CVS,Beauty,Razor,Quattro For Women Razor,F,9.99\\r\\n626,CVS,Beauty,Razor,Quattro Titanium Razor,M,10.99\\r\\n627,CVS,Beauty,\"Razor\\r\\nCartridges\",5 Blade Women\\'s Razor Cartridges,F,10.99\\r\\n628,CVS,Beauty,\"Razor\\r\\nCartridges\",5 Blade Men\\'s Razor Cartridges,M,9.99\\r\\n629,CVS,Beauty,\"Razor\\r\\nCartridges\",Quattro For Women Cartridges,F,14.99\\r\\n630,CVS,Beauty,\"Razor\\r\\nCartridges\",Quattro Titanium Cartridges,M,13.79\\r\\n631,CVS,Beauty,\"Shaving\\r\\nCream\",Raspberry Shave Gel For Women,F,2.49\\r\\n632,CVS,Beauty,\"Shaving\\r\\nCream\",Sensitive Skin Shave Gel for Men,M,2.49\\r\\n633,CVS,Beauty,\"Shaving\\r\\nCream\",Advanced Gel Sensitive Skin,M,3.49\\r\\n634,CVS,Beauty,\"Shaving\\r\\nCream\",Venus Shave Gel Olay Violet Swirl,F,3.29\\r\\n635,CVS,Beauty,\"Shaving\\r\\nCream\",\"Fusion Hydragel Shave Gel\\r\\nMoisturizing\",M,4.59\\r\\n636,CVS,Beauty,\"Shaving\\r\\nCream\",\"Signature Scents Shave Gel\\r\\nStrawberry Tangerine Twist\",F,3.79\\r\\n637,Rite Aid,Beauty,Body Wash,\"Nivea Body Wash, Moisturizing,\\r\\nTouch of Serenity, 16.9 fl oz (500 ml)\",F,6.99\\r\\n638,Rite Aid,Beauty,Body Wash,\"Nivea For Men Body Wash with\\r\\nMenthol, Cool, 16.9 fl oz (500 ml)\",M,5.49\\r\\n639,Rite Aid,Beauty,Body Wash,\"Naturals Body Wash, Ocean Breeze,\\r\\n12 fl oz (354 ml)\",F,2.79\\r\\n640,Rite Aid,Beauty,Body Wash,\"Men Body Wash, Refreshing, 12 fl oz\\r\\n(354 ml)\",M,2.79\\r\\n641,Rite Aid,Beauty,Deodorant,\"Anti-Perspirant & Deodorant, Invisible\\r\\nSolid, Sheer Powder 2.6 oz (74 g)\",F,3.89\\r\\n642,Rite Aid,Beauty,Deodorant,\"Degree Men Dry Protection Anti-\\r\\nPerspirant & Deodorant, Sport, 2.7 oz\\r\\n(76 g)\",M,3.79\\r\\n643,Rite Aid,Beauty,Deodorant,\"Go Sleeveless Anti-Perspirant\\r\\nDeodorant, Soothing Chamomile, 2.6\\r\\noz (74 g)\",F,5.64\\r\\n646,Rite Aid,Beauty,Deodorant,\"Antiperspirant Deodorant, Fresh\\r\\nAwake 2.7 oz (76 g)\",M,5.49\\r\\n647,Rite Aid,Beauty,Deodorant,\"Anti-Perspirant & Deodorant for\\r\\nWomen, Clear Gel, Powder Fresh,\\r\\n3.4 oz (96 g)\",F,5.29\\r\\n648,Rite Aid,Beauty,Deodorant,\"Anti-Perspirant & Deodorant, Clear\\r\\nGel, Mountain Air, 3.4 oz (96 g)\",M,5.29\\r\\n649,Rite Aid,Beauty,Deodorant,\"Lady Speed Stick Invisible Dry\\r\\nAntiperspirant/Deodorant, Powder\\r\\nFresh, 2.3 oz (65 g)\",F,4.69\\r\\n650,Rite Aid,Beauty,Deodorant,\"Speed Stick Power Antiperspirant\\r\\nDeodorant, Unscented, 3 oz (85 g)\",M,3.59\\r\\n653,Rite Aid,Beauty,Hair Care,\"Conditioner, Nourishing Daily, Strong\",F,11.98\\r\\n655,Rite Aid,Beauty,Hair Care,\"Men Scalp Therapy Shampoo &\\r\\nConditioner, Daily, Anti-Dandruff,\\r\\nComplete Care, 2 in 1, 12.9 fl oz\\r\\n(381 ml)\",M,5.99\\r\\n656,Rite Aid,Beauty,Hair Care,\"Damage Solutions Shampoo,\\r\\nIntensive Repair, 12 fl oz (355 ml)\",F,4.99\\r\\n657,Rite Aid,Beauty,Hair Care,\"Men + Care Shampoo, Fortifying,\\r\\nThickening, 12 fl oz (355 ml)\",M,5.19\\r\\n658,Rite Aid,Beauty,Lotion,\"Intensive Rescue Lotion,\\r\\nHypoallergenic, Repairing Moisture,\\r\\nFragrance Free, 24.5 fl oz (725 ml)\",F,7.79\\r\\n659,Rite Aid,Beauty,Lotion,\"Men Body & Face Lotion, Fast\\r\\nAbsorbing, 20.3 fl oz (600 ml)\",M,9.4\\r\\n660,Rite Aid,Beauty,Razor,\"Soleil Shavers, Sensitive Skin, 3\\r\\nBlades, 4 shavers\",F,7.29\\r\\n661,Rite Aid,Beauty,Razor,\"Comfort 3 Shavers for Men, Sensitive\\r\\nSkin, 4 shavers\",M,4.69\\r\\n662,Rite Aid,Beauty,Razor,\"Renewal Razors, 5 Blade, for\\r\\nWomen, 3 razors\",F,8.99\\r\\n663,Rite Aid,Beauty,Razor,\"Renewal Razors, Disposable,\\r\\n5-Blade, for Men, 3 ea\",M,8.49\\r\\n664,Rite Aid,Beauty,Razor,\"Renewal Razor, 5 Blade, for Women,\\r\\n1 set\",F,7.49\\r\\n665,Rite Aid,Beauty,Razor,\"Renewal Razor, 5 Blade, for Men,\\r\\nwith Trimmer, 1 set\",M,7.49\\r\\n666,Rite Aid,Beauty,\"Razor\\r\\nCartridges\",\"Venus Embrace Cartridges, 5 Blades,\\r\\nValue Pack, 6 cartridges\",F,26.99\\r\\n667,Rite Aid,Beauty,\"Razor\\r\\nCartridges\",Fusion Cartridges 4 cartridges,M,27.73\\r\\n668,Rite Aid,Beauty,\"Razor\\r\\nCartridges\",\"Renewal Cartridge Refills, 5 Blade, for\\r\\nWomen, 4 cartridges\",F,8.99\\r\\n669,Rite Aid,Beauty,\"Razor\\r\\nCartridges\",\"Renewal Cartridge Refills, 5 Blade, for\\r\\nMen, with Trimmer, 4 cartridges\",M,8.49\\r\\n672,Rite Aid,Beauty,\"Razor\\r\\nCartridges\",\"Quattro Cartridges, 4 cartridges\",M,12.49\\r\\n673,Rite Aid,Beauty,\"Razor\\r\\nCartridges\",\"Hydro 5 Cartridges, Hydrating, Aloe &\\r\\nVitamin E, 4 cartridges\",M,15.99\\r\\n674,Rite Aid,Beauty,\"Razor\\r\\nCartridges\",\"Quattro for Women Cartridges, Ultra\\r\\nSmooth, 4 cartridges\",F,14.79\\r\\n675,Rite Aid,Beauty,\"Razor\\r\\nCartridges\",\"Hydro Silk Razor Cartridges, 4\\r\\ncartridges\",F,19.99\\r\\n676,Rite Aid,Beauty,\"Shaving\\r\\nCream\",\"Shave Gel, Sensitive Skin with Aloe,\\r\\nValue Size 7 oz.\",M,4.98\\r\\n677,Rite Aid,Beauty,\"Shaving\\r\\nCream\",\"Shave Gel, Sensitive, with Shea\\r\\nButter 7 oz (198 g)\",F,3.99\\r\\n678,Rite Aid,Beauty,\"Shaving\\r\\nCream\",\"Hydra Gel, Ultra Sensitive 7 oz (198 g)\",M,5.29\\r\\n679,Rite Aid,Beauty,\"Shaving\\r\\nCream\",\"Renewal Shave Gel, Moisturizing,\\r\\nBaby Soft with Baby Oil, 7 oz (198 g)\",F,2.59\\r\\n680,Rite Aid,Beauty,\"Shaving\\r\\nCream\",\"Renewal Shave Gel, for Men,\\r\\nSensitive Skin, 7 oz (198 g)\",M,2.59\\r\\n681,Rite Aid,Beauty,\"Shaving\\r\\nCream\",\"Skin Therapy Shave Cream,\\r\\nMoisturizing, Sensitive Skin, 10 oz\\r\\n(283 g)\",F,3.49\\r\\n682,\"Walgreens/\\r\\nDuane Reade\",Beauty,Body Wash,\"Body Wash Omega Moisture Sea\\r\\nBerries\",F,5.09\\r\\n683,\"Walgreens/\\r\\nDuane Reade\",Beauty,Body Wash,\"Dial for Men Body Wash Fresh\\r\\nReaction Alpine\",M,5.09\\r\\n684,\"Walgreens/\\r\\nDuane Reade\",Beauty,Body Wash,Nourishing Body Wash,F,5.67\\r\\n685,\"Walgreens/\\r\\nDuane Reade\",Beauty,Body Wash,Men+Care Body Wash Clean Comfort,M,4.99\\r\\n686,\"Walgreens/\\r\\nDuane Reade\",Beauty,Body Wash,Body Wash Jojoba Oil & Coconut,F,5.49\\r\\n687,\"Walgreens/\\r\\nDuane Reade\",Beauty,Body Wash,Men 3 in 1 Body Wash Energy,M,4.99\\r\\n688,\"Walgreens/\\r\\nDuane Reade\",Beauty,Deodorant,\"Dry Protection Anti-Perspirant &\\r\\nDeodorant Shower Clean\",F,3.43\\r\\n689,\"Walgreens/\\r\\nDuane Reade\",Beauty,Deodorant,\"Men Dry Protection Antiperspirant &\\r\\nDeodorant Sport\",M,3.29\\r\\n690,\"Walgreens/\\r\\nDuane Reade\",Beauty,Deodorant,\"go fresh Anti-Perspirant Deodorant\\r\\nCool Essentials\",F,5.18\\r\\n691,\"Walgreens/\\r\\nDuane Reade\",Beauty,Deodorant,\"Men+Care Antiperspirant &\\r\\nDeodorant Extra Fresh\",M,4.99\\r\\n693,Walgreens/,Beauty,Deodorant,Anti-Perspirant & Deodorant Powder,F,3.99\\r\\n696,\"Walgreens/\\r\\nDuane Reade\",Beauty,Deodorant,\"Advanced Gel Anti-Perspirant &\\r\\nDeodorant Sport\",M,3.99\\r\\n697,\"Walgreens/\\r\\nDuane Reade\",Beauty,Hair Care,\"2 in 1 Moisturizing Shampoo +\\r\\nConditioner\",F,1.99\\r\\n698,\"Walgreens/\\r\\nDuane Reade\",Beauty,Hair Care,\"Mens 3-IN-1 Shampoo, Conditioner\\r\\n& Body Wash Ocean Surge\",M,1.29\\r\\n701,\"Walgreens/\\r\\nDuane Reade\",Beauty,Hair Care,\"Aussome Volume 2-in-1 Shampoo (&\\r\\nConditioner)\",F,8.38\\r\\n702,\"Walgreens/\\r\\nDuane Reade\",Beauty,Hair Care,\"Men Daily Clean 2-In-1 Shampoo +\\r\\nConditioner\",M,3.79\\r\\n703,\"Walgreens/\\r\\nDuane Reade\",Beauty,Hair Care,\"Smooth & Silky 2 in 1 Dandruff\\r\\nShampoo + Conditioner\",F,8.29\\r\\n704,\"Walgreens/\\r\\nDuane Reade\",Beauty,Hair Care,\"Men Total Care All-in-1 Dandruff\\r\\nShampoo + Conditioner\",M,8.29\\r\\n705,\"Walgreens/\\r\\nDuane Reade\",Beauty,Hair Care,\"Performance Series 2 in 1 Plus\\r\\nShampoo & Conditioner, For All Hair\\r\\nTypes\",F,4.48\\r\\n706,\"Walgreens/\\r\\nDuane Reade\",Beauty,Hair Care,\"Professionals Men 2-in-1 Shampoo\\r\\nand Conditioner\",M,3.99\\r\\n707,\"Walgreens/\\r\\nDuane Reade\",Beauty,Lotion,\"7 Day Moisturizing Lotion, Extra Dry\\r\\nSkin\",F,6.79\\r\\n708,\"Walgreens/\\r\\nDuane Reade\",Beauty,Lotion,\"Dial For Men NutriSkin Body & Hand\\r\\nLotion Ultra Hydrating\",M,6.79\\r\\n709,\"Walgreens/\\r\\nDuane Reade\",Beauty,Lotion,\"Intensive Rescue Intensive Care\\r\\nAdvanced Repair Non-Greasy Lotion\\r\\nFragrance Free\",F,4.19\\r\\n710,\"Walgreens/\\r\\nDuane Reade\",Beauty,Lotion,\"Men Healing Moisture Non-Greasy\\r\\nBody & Face Lotion Extra Strength\",M,4.19\\r\\n711,\"Walgreens/\\r\\nDuane Reade\",Beauty,Razor,BiC Comfort 3 Shavers for Women,F,3.99\\r\\n712,\"Walgreens/\\r\\nDuane Reade\",Beauty,Razor,BiC Comfort 3 Pivot Shavers,M,3.99\\r\\n713,\"Walgreens/\\r\\nDuane Reade\",Beauty,Razor,\"Venus Swirl Women\\'s Razor Handle\\r\\nwith 2 Blade Refills\",F,13.99\\r\\n714,\"Walgreens/\\r\\nDuane Reade\",Beauty,Razor,\"Fusion ProGlide SilverTouch Razor\\r\\nwith FlexBall Handle Technology & 2\\r\\nRazor Blade Refills\",M,13.79\\r\\n715,\"Walgreens/\\r\\nDuane Reade\",Beauty,Razor,Quattro For Women Razor,F,10.49\\r\\n716,\"Walgreens/\\r\\nDuane Reade\",Beauty,Razor,Quattro Titanium Razor,M,9.99\\r\\n717,\"Walgreens/\\r\\nDuane Reade\",Beauty,Razor,Beauty Disposable Five-Blade Razors,F,5.99\\r\\n718,\"Walgreens/\\r\\nDuane Reade\",Beauty,Razor,Men\\'s Disposable Five-Blade Razors,M,5.49\\r\\n719,\"Walgreens/\\r\\nDuane Reade\",Beauty,\"Razor\\r\\nCartridges\",Venus Divine Cartridges,F,25.99\\r\\n720,\"Walgreens/\\r\\nDuane Reade\",Beauty,\"Razor\\r\\nCartridges\",MACH3 Cartridges,M,23.99\\r\\n721,\"Walgreens/\\r\\nDuane Reade\",Beauty,\"Razor\\r\\nCartridges\",Hydro Silk for Women Cartridges,F,18.49\\r\\n722,\"Walgreens/\\r\\nDuane Reade\",Beauty,\"Razor\\r\\nCartridges\",Hydro 5 Cartridge Razor Refills,M,14.99\\r\\n723,\"Walgreens/\\r\\nDuane Reade\",Beauty,\"Razor\\r\\nCartridges\",\"Quattro For Women Razor Cartridge\\r\\nRefill\",F,14.49\\r\\n726,\"Walgreens/\\r\\nDuane Reade\",Beauty,\"Razor\\r\\nCartridges\",Quattro Titanium Razor Cartridges,M,12.99\\r\\n727,\"Walgreens/\\r\\nDuane Reade\",Beauty,\"Shaving\\r\\nCream\",Shave Gel Soothing Aloe,M,3.29\\r\\n728,\"Walgreens/\\r\\nDuane Reade\",Beauty,\"Shaving\\r\\nCream\",\"Venus with a Touch of Olay, Shave\\r\\nGel Sugarberry Bliss\",F,3.49\\r\\n729,\"Walgreens/\\r\\nDuane Reade\",Beauty,\"Shaving\\r\\nCream\",Series Shave Gel,M,2.89\\r\\n730,\"Walgreens/\\r\\nDuane Reade\",Beauty,\"Shaving\\r\\nCream\",Moisture Shave Lavender Shea,F,7.57\\r\\n731,\"Walgreens/\\r\\nDuane Reade\",Beauty,\"Shaving\\r\\nCream\",Natural Man Aqua 4 in 1 Shave Aqua,M,5.99\\r\\n732,\"Walgreens/\\r\\nDuane Reade\",Beauty,\"Shaving\\r\\nCream\",\"SignatureScents Moisturizing Shave\\r\\nGel Raspberry Rain\",F,3.29\\r\\n733,\"Walgreens/\\r\\nDuane Reade\",Beauty,\"Shaving\\r\\nCream\",Dry Skin Ladies Shave Gel,F,3.29\\r\\n734,\"Walgreens/\\r\\nDuane Reade\",Beauty,\"Shaving\\r\\nCream\",Sensitive Skin Men\\'s Shave Gel,M,3.29\\r\\n'}"
            ]
          },
          "metadata": {
            "tags": []
          },
          "execution_count": 6
        }
      ]
    },
    {
      "metadata": {
        "id": "legJsvbWB5QU",
        "colab_type": "text"
      },
      "cell_type": "markdown",
      "source": [
        "### Importando a biblioteca e o dataset\n",
        "\n"
      ]
    },
    {
      "metadata": {
        "id": "m0qq82CZE4k5",
        "colab_type": "code",
        "colab": {}
      },
      "cell_type": "code",
      "source": [
        "import pandas as pd"
      ],
      "execution_count": 0,
      "outputs": []
    },
    {
      "metadata": {
        "id": "KTRwzs5wBjPa",
        "colab_type": "text"
      },
      "cell_type": "markdown",
      "source": [
        "\n",
        "Importe o dataset da pink tax , será nossa base de dados para trabalho."
      ]
    },
    {
      "metadata": {
        "id": "ihr_EkYuBlaf",
        "colab_type": "code",
        "colab": {}
      },
      "cell_type": "code",
      "source": [
        "data = pd.read_csv('/content/pink_tax.csv', header = 0, index_col = 0) "
      ],
      "execution_count": 0,
      "outputs": []
    },
    {
      "metadata": {
        "id": "K9eMLPrhCD23",
        "colab_type": "text"
      },
      "cell_type": "markdown",
      "source": [
        "### Primeiro contato com os dados"
      ]
    },
    {
      "metadata": {
        "id": "gcXkN39aE4k-",
        "colab_type": "text"
      },
      "cell_type": "markdown",
      "source": [
        "Utilize a função head() para visualizar os primeiros itens do seu dataset. O que acontece se você colocar algum número dentro do parenteses? "
      ]
    },
    {
      "metadata": {
        "id": "6gxtLJp0G14m",
        "colab_type": "code",
        "colab": {
          "base_uri": "https://localhost:8080/",
          "height": 359
        },
        "outputId": "9f59d20a-3773-43ef-c3f1-908372f063db"
      },
      "cell_type": "code",
      "source": [
        "data.head(10)"
      ],
      "execution_count": 11,
      "outputs": [
        {
          "output_type": "execute_result",
          "data": {
            "text/html": [
              "<div>\n",
              "<style scoped>\n",
              "    .dataframe tbody tr th:only-of-type {\n",
              "        vertical-align: middle;\n",
              "    }\n",
              "\n",
              "    .dataframe tbody tr th {\n",
              "        vertical-align: top;\n",
              "    }\n",
              "\n",
              "    .dataframe thead th {\n",
              "        text-align: right;\n",
              "    }\n",
              "</style>\n",
              "<table border=\"1\" class=\"dataframe\">\n",
              "  <thead>\n",
              "    <tr style=\"text-align: right;\">\n",
              "      <th></th>\n",
              "      <th>Store</th>\n",
              "      <th>Category</th>\n",
              "      <th>Item Type</th>\n",
              "      <th>Name (on Website)</th>\n",
              "      <th>Gender</th>\n",
              "      <th>Price</th>\n",
              "    </tr>\n",
              "  </thead>\n",
              "  <tbody>\n",
              "    <tr>\n",
              "      <th>0</th>\n",
              "      <td>Carter's</td>\n",
              "      <td>Kids</td>\n",
              "      <td>Baby Jeans</td>\n",
              "      <td>5-Pocket Embellished Skinny Jeans</td>\n",
              "      <td>F</td>\n",
              "      <td>28.0</td>\n",
              "    </tr>\n",
              "    <tr>\n",
              "      <th>1</th>\n",
              "      <td>Carter's</td>\n",
              "      <td>Kids</td>\n",
              "      <td>Baby Jeans</td>\n",
              "      <td>5-Pocket Skinny Jeans</td>\n",
              "      <td>M</td>\n",
              "      <td>14.4</td>\n",
              "    </tr>\n",
              "    <tr>\n",
              "      <th>2</th>\n",
              "      <td>Carter's</td>\n",
              "      <td>Kids</td>\n",
              "      <td>Baby Jeans</td>\n",
              "      <td>Printed French Terry Pants</td>\n",
              "      <td>F</td>\n",
              "      <td>8.0</td>\n",
              "    </tr>\n",
              "    <tr>\n",
              "      <th>3</th>\n",
              "      <td>Carter's</td>\n",
              "      <td>Kids</td>\n",
              "      <td>Baby Jeans</td>\n",
              "      <td>French Terry Pants</td>\n",
              "      <td>M</td>\n",
              "      <td>8.0</td>\n",
              "    </tr>\n",
              "    <tr>\n",
              "      <th>4</th>\n",
              "      <td>Carter's</td>\n",
              "      <td>Kids</td>\n",
              "      <td>Baby Shirts</td>\n",
              "      <td>Printed Tee</td>\n",
              "      <td>F</td>\n",
              "      <td>5.0</td>\n",
              "    </tr>\n",
              "    <tr>\n",
              "      <th>5</th>\n",
              "      <td>Carter's</td>\n",
              "      <td>Kids</td>\n",
              "      <td>Baby Shirts</td>\n",
              "      <td>Excavator Tee</td>\n",
              "      <td>M</td>\n",
              "      <td>5.0</td>\n",
              "    </tr>\n",
              "    <tr>\n",
              "      <th>6</th>\n",
              "      <td>Carter's</td>\n",
              "      <td>Kids</td>\n",
              "      <td>Baby Shirts</td>\n",
              "      <td>Ballet Tee</td>\n",
              "      <td>F</td>\n",
              "      <td>8.0</td>\n",
              "    </tr>\n",
              "    <tr>\n",
              "      <th>7</th>\n",
              "      <td>Carter's</td>\n",
              "      <td>Kids</td>\n",
              "      <td>Baby Shirts</td>\n",
              "      <td>Speed Of Lightning Tee</td>\n",
              "      <td>M</td>\n",
              "      <td>8.0</td>\n",
              "    </tr>\n",
              "    <tr>\n",
              "      <th>8</th>\n",
              "      <td>Carter's</td>\n",
              "      <td>Kids</td>\n",
              "      <td>Baby Shoes</td>\n",
              "      <td>Carter's Sparkle High Tops</td>\n",
              "      <td>F</td>\n",
              "      <td>15.0</td>\n",
              "    </tr>\n",
              "    <tr>\n",
              "      <th>9</th>\n",
              "      <td>Carter's</td>\n",
              "      <td>Kids</td>\n",
              "      <td>Baby Shoes</td>\n",
              "      <td>Carter's High Top Crib Shoes</td>\n",
              "      <td>M</td>\n",
              "      <td>15.0</td>\n",
              "    </tr>\n",
              "  </tbody>\n",
              "</table>\n",
              "</div>"
            ],
            "text/plain": [
              "      Store Category    Item Type                  Name (on Website) Gender  \\\n",
              "0  Carter's     Kids   Baby Jeans  5-Pocket Embellished Skinny Jeans      F   \n",
              "1  Carter's     Kids   Baby Jeans              5-Pocket Skinny Jeans      M   \n",
              "2  Carter's     Kids   Baby Jeans         Printed French Terry Pants      F   \n",
              "3  Carter's     Kids   Baby Jeans                 French Terry Pants      M   \n",
              "4  Carter's     Kids  Baby Shirts                        Printed Tee      F   \n",
              "5  Carter's     Kids  Baby Shirts                      Excavator Tee      M   \n",
              "6  Carter's     Kids  Baby Shirts                         Ballet Tee      F   \n",
              "7  Carter's     Kids  Baby Shirts             Speed Of Lightning Tee      M   \n",
              "8  Carter's     Kids   Baby Shoes         Carter's Sparkle High Tops      F   \n",
              "9  Carter's     Kids   Baby Shoes       Carter's High Top Crib Shoes      M   \n",
              "\n",
              "   Price  \n",
              "0   28.0  \n",
              "1   14.4  \n",
              "2    8.0  \n",
              "3    8.0  \n",
              "4    5.0  \n",
              "5    5.0  \n",
              "6    8.0  \n",
              "7    8.0  \n",
              "8   15.0  \n",
              "9   15.0  "
            ]
          },
          "metadata": {
            "tags": []
          },
          "execution_count": 11
        }
      ]
    },
    {
      "metadata": {
        "id": "805TzcAoE4lG",
        "colab_type": "text"
      },
      "cell_type": "markdown",
      "source": [
        "\n",
        "Utilize a função info(), quais informações consegue obter com ela? Como é seu dataset?"
      ]
    },
    {
      "metadata": {
        "id": "IyLnfxOME4lH",
        "colab_type": "code",
        "colab": {
          "base_uri": "https://localhost:8080/",
          "height": 215
        },
        "outputId": "06fc4fc9-e5a2-468a-8c8f-331f00fe2565"
      },
      "cell_type": "code",
      "source": [
        "data.info()"
      ],
      "execution_count": 12,
      "outputs": [
        {
          "output_type": "stream",
          "text": [
            "<class 'pandas.core.frame.DataFrame'>\n",
            "Int64Index: 682 entries, 0 to 734\n",
            "Data columns (total 6 columns):\n",
            "Store                682 non-null object\n",
            "Category             682 non-null object\n",
            "Item Type            682 non-null object\n",
            "Name (on Website)    682 non-null object\n",
            "Gender               682 non-null object\n",
            "Price                682 non-null float64\n",
            "dtypes: float64(1), object(5)\n",
            "memory usage: 37.3+ KB\n"
          ],
          "name": "stdout"
        }
      ]
    },
    {
      "metadata": {
        "id": "EpEI3Er2CXSd",
        "colab_type": "text"
      },
      "cell_type": "markdown",
      "source": [
        "### Análise das colunas do dataframe"
      ]
    },
    {
      "metadata": {
        "id": "kgEO4zDDE4lR",
        "colab_type": "text"
      },
      "cell_type": "markdown",
      "source": [
        "Quantos valores diferentes existem em cada coluna?"
      ]
    },
    {
      "metadata": {
        "id": "3q9JqXD8G6se",
        "colab_type": "code",
        "colab": {
          "base_uri": "https://localhost:8080/",
          "height": 143
        },
        "outputId": "7e8e12bf-af2d-4595-96e8-1cc24cff3f5b"
      },
      "cell_type": "code",
      "source": [
        "data.nunique()"
      ],
      "execution_count": 13,
      "outputs": [
        {
          "output_type": "execute_result",
          "data": {
            "text/plain": [
              "Store                 25\n",
              "Category               3\n",
              "Item Type             29\n",
              "Name (on Website)    647\n",
              "Gender                 2\n",
              "Price                218\n",
              "dtype: int64"
            ]
          },
          "metadata": {
            "tags": []
          },
          "execution_count": 13
        }
      ]
    },
    {
      "metadata": {
        "id": "kpq0TqZ7Dekd",
        "colab_type": "text"
      },
      "cell_type": "markdown",
      "source": [
        "Quantos tipos de item diferentes aparecem no dataset? (dica: use a coluna 'Item Type')"
      ]
    },
    {
      "metadata": {
        "id": "UtwQdC0nG70i",
        "colab_type": "code",
        "colab": {
          "base_uri": "https://localhost:8080/",
          "height": 35
        },
        "outputId": "8e4d3b63-e137-4f0f-ebdc-e0ba00d759eb"
      },
      "cell_type": "code",
      "source": [
        "data['Item Type'].nunique()"
      ],
      "execution_count": 16,
      "outputs": [
        {
          "output_type": "execute_result",
          "data": {
            "text/plain": [
              "29"
            ]
          },
          "metadata": {
            "tags": []
          },
          "execution_count": 16
        }
      ]
    },
    {
      "metadata": {
        "id": "T7CdWeerE4lW",
        "colab_type": "text"
      },
      "cell_type": "markdown",
      "source": [
        "Quais são esses diferentes itens que estão listados no dataset?"
      ]
    },
    {
      "metadata": {
        "id": "fKjGsYcgG8vm",
        "colab_type": "code",
        "colab": {
          "base_uri": "https://localhost:8080/",
          "height": 143
        },
        "outputId": "8eb3ec7e-80b1-446d-f74e-04d43799718d"
      },
      "cell_type": "code",
      "source": [
        "data['Item Type'].unique()"
      ],
      "execution_count": 17,
      "outputs": [
        {
          "output_type": "execute_result",
          "data": {
            "text/plain": [
              "array(['Baby Jeans', 'Baby Shirts', 'Baby Shoes', 'Baby Sweaters',\n",
              "       \"Children's Jeans\", \"Children's Shirts\", \"Children's\\r\\nUnderwear\",\n",
              "       'Onesie', 'Toddler Shoes', 'Preschool Toys', 'Arts and Crafts',\n",
              "       'Backpacks', 'Bikes & Scooters', 'General Toys', 'Helmets & Pads',\n",
              "       'Dress Pants', 'Dress Shirt', 'Jeans', 'Shirt', 'Socks', 'Sweater',\n",
              "       'Underwear', 'Body Wash', 'Deodorant', 'Hair Care', 'Lotion',\n",
              "       'Razor', 'Razor\\r\\nCartridges', 'Shaving\\r\\nCream'], dtype=object)"
            ]
          },
          "metadata": {
            "tags": []
          },
          "execution_count": 17
        }
      ]
    },
    {
      "metadata": {
        "id": "l1n2Cs2xDNhi",
        "colab_type": "text"
      },
      "cell_type": "markdown",
      "source": [
        "Quantas vezes cada item diferente um aparece?"
      ]
    },
    {
      "metadata": {
        "id": "FSg61kB1G-5-",
        "colab_type": "code",
        "colab": {
          "base_uri": "https://localhost:8080/",
          "height": 557
        },
        "outputId": "072a83bd-dcc8-4242-aa52-77a919f7d21d"
      },
      "cell_type": "code",
      "source": [
        "data['Item Type'].value_counts()"
      ],
      "execution_count": 18,
      "outputs": [
        {
          "output_type": "execute_result",
          "data": {
            "text/plain": [
              "Jeans                      50\n",
              "Sweater                    42\n",
              "Dress Pants                40\n",
              "Underwear                  40\n",
              "Dress Shirt                40\n",
              "Shirt                      40\n",
              "Socks                      39\n",
              "Bikes & Scooters           22\n",
              "Backpacks                  20\n",
              "Baby Jeans                 20\n",
              "Baby Shirts                20\n",
              "Deodorant                  20\n",
              "Children's\\r\\nUnderwear    20\n",
              "Baby Sweaters              20\n",
              "Helmets & Pads             20\n",
              "Shaving\\r\\nCream           20\n",
              "Razor                      20\n",
              "Onesie                     20\n",
              "General Toys               19\n",
              "Children's Jeans           19\n",
              "Children's Shirts          19\n",
              "Baby Shoes                 19\n",
              "Razor\\r\\nCartridges        18\n",
              "Body Wash                  18\n",
              "Hair Care                  16\n",
              "Preschool Toys             13\n",
              "Lotion                     10\n",
              "Arts and Crafts            10\n",
              "Toddler Shoes               8\n",
              "Name: Item Type, dtype: int64"
            ]
          },
          "metadata": {
            "tags": []
          },
          "execution_count": 18
        }
      ]
    },
    {
      "metadata": {
        "id": "CwyJKcq0D2WT",
        "colab_type": "text"
      },
      "cell_type": "markdown",
      "source": [
        "Quantas categorias diferentes há no dataset? (dica: use a coluna 'Category')"
      ]
    },
    {
      "metadata": {
        "id": "mTFk5OBoG_V2",
        "colab_type": "code",
        "colab": {
          "base_uri": "https://localhost:8080/",
          "height": 35
        },
        "outputId": "ab720231-bf69-4522-d723-967c634bfc87"
      },
      "cell_type": "code",
      "source": [
        "data['Category'].nunique()"
      ],
      "execution_count": 19,
      "outputs": [
        {
          "output_type": "execute_result",
          "data": {
            "text/plain": [
              "3"
            ]
          },
          "metadata": {
            "tags": []
          },
          "execution_count": 19
        }
      ]
    },
    {
      "metadata": {
        "id": "pP9aKkQiE4la",
        "colab_type": "text"
      },
      "cell_type": "markdown",
      "source": [
        "Quais são as diferentes categorias?"
      ]
    },
    {
      "metadata": {
        "id": "cW5ujnzHHAfo",
        "colab_type": "code",
        "colab": {
          "base_uri": "https://localhost:8080/",
          "height": 35
        },
        "outputId": "5509340f-dcd2-4947-81c3-d6f6db31f45d"
      },
      "cell_type": "code",
      "source": [
        "data['Category'].unique()"
      ],
      "execution_count": 20,
      "outputs": [
        {
          "output_type": "execute_result",
          "data": {
            "text/plain": [
              "array(['Kids', 'Clothes', 'Beauty'], dtype=object)"
            ]
          },
          "metadata": {
            "tags": []
          },
          "execution_count": 20
        }
      ]
    },
    {
      "metadata": {
        "id": "wPVE0ePWD8I9",
        "colab_type": "text"
      },
      "cell_type": "markdown",
      "source": [
        "### Seleção"
      ]
    },
    {
      "metadata": {
        "id": "cGUVFcvSE4lL",
        "colab_type": "text"
      },
      "cell_type": "markdown",
      "source": [
        "Crie uma variável com a coluna \"Price\" do dataframe."
      ]
    },
    {
      "metadata": {
        "id": "m30UdbdWE4lM",
        "colab_type": "code",
        "colab": {}
      },
      "cell_type": "code",
      "source": [
        "p = data['Price']"
      ],
      "execution_count": 0,
      "outputs": []
    },
    {
      "metadata": {
        "id": "DktHLXGUFVzf",
        "colab_type": "text"
      },
      "cell_type": "markdown",
      "source": [
        "Selecione a 16a linha do seu dataframe. Qual é o item mostrado? Qual é o seu preço? (lembre que a contagem começa em 0)"
      ]
    },
    {
      "metadata": {
        "id": "MoJtfRHJHF_F",
        "colab_type": "code",
        "colab": {
          "base_uri": "https://localhost:8080/",
          "height": 143
        },
        "outputId": "088a76e1-19d3-4368-f914-a5a293e7a465"
      },
      "cell_type": "code",
      "source": [
        "print(data.iloc[15])"
      ],
      "execution_count": 23,
      "outputs": [
        {
          "output_type": "stream",
          "text": [
            "Store                                Carter's\n",
            "Category                                 Kids\n",
            "Item Type                       Baby Sweaters\n",
            "Name (on Website)    Half-Zip Fleece Pullover\n",
            "Gender                                      M\n",
            "Price                                    13.2\n",
            "Name: 15, dtype: object\n"
          ],
          "name": "stdout"
        }
      ]
    },
    {
      "metadata": {
        "id": "t5FTWIY6E4lg",
        "colab_type": "text"
      },
      "cell_type": "markdown",
      "source": [
        "Crie duas variáveis. Uma com as entradas de itens femininos e outra com os masculinos (dica: use seleção condicional na coluna 'Gender')"
      ]
    },
    {
      "metadata": {
        "id": "mKRVlr1dE4li",
        "colab_type": "code",
        "colab": {}
      },
      "cell_type": "code",
      "source": [
        "h = data[data['Gender'] == 'M']\n",
        "m = data[data['Gender'] == 'F']"
      ],
      "execution_count": 0,
      "outputs": []
    },
    {
      "metadata": {
        "id": "ZWIEqAIyE4ll",
        "colab_type": "text"
      },
      "cell_type": "markdown",
      "source": [
        "Crie novos dataframe agora com as colunas:\n",
        "\n",
        "*   Price\n",
        "*   Item Type\n",
        "*   Category\n",
        "\n",
        "para produtos femininos e masculinos (dica: use as variáveis já criadas acima)\n",
        "\n",
        "\n",
        "\n"
      ]
    },
    {
      "metadata": {
        "id": "aItljRuzE4lm",
        "colab_type": "code",
        "colab": {}
      },
      "cell_type": "code",
      "source": [
        "h1 = h[['Price', 'Item Type', 'Category']]\n",
        "m1 = m[['Price', 'Item Type', 'Category']]"
      ],
      "execution_count": 0,
      "outputs": []
    },
    {
      "metadata": {
        "id": "8RkjbFRbE4lq",
        "colab_type": "text"
      },
      "cell_type": "markdown",
      "source": [
        "Calcule a média dos preços dos produtos separados por gênero e compare os dois. (dica: crie duas variáveis com esses valores \"media_masculino e media_feminino\" e imprima as duas)"
      ]
    },
    {
      "metadata": {
        "id": "1JskBCX_HPS3",
        "colab_type": "code",
        "colab": {
          "base_uri": "https://localhost:8080/",
          "height": 89
        },
        "outputId": "0935053f-5822-4794-9aaf-46695c7ae307"
      },
      "cell_type": "code",
      "source": [
        "media_masculino = h1.mean()\n",
        "media_feminino = m1.mean()\n",
        "\n",
        "print(media_masculino)\n",
        "print(media_feminino)"
      ],
      "execution_count": 31,
      "outputs": [
        {
          "output_type": "stream",
          "text": [
            "Price    29.288684\n",
            "dtype: float64\n",
            "Price    31.471765\n",
            "dtype: float64\n"
          ],
          "name": "stdout"
        }
      ]
    },
    {
      "metadata": {
        "id": "AKxiH9eiE4lz",
        "colab_type": "text"
      },
      "cell_type": "markdown",
      "source": [
        "### Group by"
      ]
    },
    {
      "metadata": {
        "id": "APKQjba2dSUG",
        "colab_type": "text"
      },
      "cell_type": "markdown",
      "source": [
        "Crie um objeto de groupby para comparar os produtos por categoria e gênero. Use o .describe() para analisar esses dados."
      ]
    },
    {
      "metadata": {
        "id": "bJbzqNwpPO7g",
        "colab_type": "text"
      },
      "cell_type": "markdown",
      "source": [
        ""
      ]
    },
    {
      "metadata": {
        "id": "j1ByxEESdTEV",
        "colab_type": "code",
        "colab": {
          "base_uri": "https://localhost:8080/",
          "height": 297
        },
        "outputId": "5ad99631-403a-4845-c6cf-a91b5367da39"
      },
      "cell_type": "code",
      "source": [
        "gb = data.groupby(['Gender', 'Category'])\n",
        "gb.describe()\n"
      ],
      "execution_count": 40,
      "outputs": [
        {
          "output_type": "execute_result",
          "data": {
            "text/html": [
              "<div>\n",
              "<style scoped>\n",
              "    .dataframe tbody tr th:only-of-type {\n",
              "        vertical-align: middle;\n",
              "    }\n",
              "\n",
              "    .dataframe tbody tr th {\n",
              "        vertical-align: top;\n",
              "    }\n",
              "\n",
              "    .dataframe thead tr th {\n",
              "        text-align: left;\n",
              "    }\n",
              "\n",
              "    .dataframe thead tr:last-of-type th {\n",
              "        text-align: right;\n",
              "    }\n",
              "</style>\n",
              "<table border=\"1\" class=\"dataframe\">\n",
              "  <thead>\n",
              "    <tr>\n",
              "      <th></th>\n",
              "      <th></th>\n",
              "      <th colspan=\"8\" halign=\"left\">Price</th>\n",
              "    </tr>\n",
              "    <tr>\n",
              "      <th></th>\n",
              "      <th></th>\n",
              "      <th>count</th>\n",
              "      <th>mean</th>\n",
              "      <th>std</th>\n",
              "      <th>min</th>\n",
              "      <th>25%</th>\n",
              "      <th>50%</th>\n",
              "      <th>75%</th>\n",
              "      <th>max</th>\n",
              "    </tr>\n",
              "    <tr>\n",
              "      <th>Gender</th>\n",
              "      <th>Category</th>\n",
              "      <th></th>\n",
              "      <th></th>\n",
              "      <th></th>\n",
              "      <th></th>\n",
              "      <th></th>\n",
              "      <th></th>\n",
              "      <th></th>\n",
              "      <th></th>\n",
              "    </tr>\n",
              "  </thead>\n",
              "  <tbody>\n",
              "    <tr>\n",
              "      <th rowspan=\"3\" valign=\"top\">F</th>\n",
              "      <th>Beauty</th>\n",
              "      <td>61.0</td>\n",
              "      <td>8.016066</td>\n",
              "      <td>5.593107</td>\n",
              "      <td>1.99</td>\n",
              "      <td>3.99</td>\n",
              "      <td>5.99</td>\n",
              "      <td>9.490</td>\n",
              "      <td>26.99</td>\n",
              "    </tr>\n",
              "    <tr>\n",
              "      <th>Clothes</th>\n",
              "      <td>146.0</td>\n",
              "      <td>44.687877</td>\n",
              "      <td>38.548105</td>\n",
              "      <td>3.98</td>\n",
              "      <td>12.96</td>\n",
              "      <td>34.00</td>\n",
              "      <td>69.125</td>\n",
              "      <td>189.50</td>\n",
              "    </tr>\n",
              "    <tr>\n",
              "      <th>Kids</th>\n",
              "      <td>133.0</td>\n",
              "      <td>27.721729</td>\n",
              "      <td>30.000206</td>\n",
              "      <td>4.99</td>\n",
              "      <td>14.99</td>\n",
              "      <td>21.95</td>\n",
              "      <td>29.950</td>\n",
              "      <td>299.99</td>\n",
              "    </tr>\n",
              "    <tr>\n",
              "      <th rowspan=\"3\" valign=\"top\">M</th>\n",
              "      <th>Beauty</th>\n",
              "      <td>61.0</td>\n",
              "      <td>7.178689</td>\n",
              "      <td>4.980065</td>\n",
              "      <td>1.29</td>\n",
              "      <td>3.99</td>\n",
              "      <td>5.29</td>\n",
              "      <td>9.400</td>\n",
              "      <td>27.73</td>\n",
              "    </tr>\n",
              "    <tr>\n",
              "      <th>Clothes</th>\n",
              "      <td>145.0</td>\n",
              "      <td>41.722069</td>\n",
              "      <td>32.729866</td>\n",
              "      <td>4.00</td>\n",
              "      <td>12.90</td>\n",
              "      <td>32.94</td>\n",
              "      <td>59.950</td>\n",
              "      <td>168.00</td>\n",
              "    </tr>\n",
              "    <tr>\n",
              "      <th>Kids</th>\n",
              "      <td>136.0</td>\n",
              "      <td>25.949485</td>\n",
              "      <td>28.859021</td>\n",
              "      <td>4.99</td>\n",
              "      <td>14.30</td>\n",
              "      <td>19.99</td>\n",
              "      <td>28.480</td>\n",
              "      <td>289.99</td>\n",
              "    </tr>\n",
              "  </tbody>\n",
              "</table>\n",
              "</div>"
            ],
            "text/plain": [
              "                 Price                                                    \\\n",
              "                 count       mean        std   min    25%    50%     75%   \n",
              "Gender Category                                                            \n",
              "F      Beauty     61.0   8.016066   5.593107  1.99   3.99   5.99   9.490   \n",
              "       Clothes   146.0  44.687877  38.548105  3.98  12.96  34.00  69.125   \n",
              "       Kids      133.0  27.721729  30.000206  4.99  14.99  21.95  29.950   \n",
              "M      Beauty     61.0   7.178689   4.980065  1.29   3.99   5.29   9.400   \n",
              "       Clothes   145.0  41.722069  32.729866  4.00  12.90  32.94  59.950   \n",
              "       Kids      136.0  25.949485  28.859021  4.99  14.30  19.99  28.480   \n",
              "\n",
              "                         \n",
              "                    max  \n",
              "Gender Category          \n",
              "F      Beauty     26.99  \n",
              "       Clothes   189.50  \n",
              "       Kids      299.99  \n",
              "M      Beauty     27.73  \n",
              "       Clothes   168.00  \n",
              "       Kids      289.99  "
            ]
          },
          "metadata": {
            "tags": []
          },
          "execution_count": 40
        }
      ]
    },
    {
      "metadata": {
        "id": "Y6o80Ge_dTeb",
        "colab_type": "text"
      },
      "cell_type": "markdown",
      "source": [
        "Agora analise as médias média de preço por categoria e gênero. (dica: use o mesmo objeto criado acima)"
      ]
    },
    {
      "metadata": {
        "id": "0zsyjjcJdXTp",
        "colab_type": "code",
        "colab": {
          "base_uri": "https://localhost:8080/",
          "height": 161
        },
        "outputId": "c7957eb2-0287-44e3-d21e-9a096df4ed70"
      },
      "cell_type": "code",
      "source": [
        "print(gb['Price'].mean())"
      ],
      "execution_count": 41,
      "outputs": [
        {
          "output_type": "stream",
          "text": [
            "Gender  Category\n",
            "F       Beauty       8.016066\n",
            "        Clothes     44.687877\n",
            "        Kids        27.721729\n",
            "M       Beauty       7.178689\n",
            "        Clothes     41.722069\n",
            "        Kids        25.949485\n",
            "Name: Price, dtype: float64\n"
          ],
          "name": "stdout"
        }
      ]
    },
    {
      "metadata": {
        "id": "DE-w0-Mrda2k",
        "colab_type": "text"
      },
      "cell_type": "markdown",
      "source": [
        "Compare agora as médias por tipo de item e gênero."
      ]
    },
    {
      "metadata": {
        "id": "HY2fnaXGdbJ2",
        "colab_type": "code",
        "colab": {
          "base_uri": "https://localhost:8080/",
          "height": 1878
        },
        "outputId": "2330ce69-8a7c-415b-8832-463407a830fa"
      },
      "cell_type": "code",
      "source": [
        "data.groupby([\"Item Type\",\"Gender\"]).mean()"
      ],
      "execution_count": 42,
      "outputs": [
        {
          "output_type": "execute_result",
          "data": {
            "text/html": [
              "<div>\n",
              "<style scoped>\n",
              "    .dataframe tbody tr th:only-of-type {\n",
              "        vertical-align: middle;\n",
              "    }\n",
              "\n",
              "    .dataframe tbody tr th {\n",
              "        vertical-align: top;\n",
              "    }\n",
              "\n",
              "    .dataframe thead th {\n",
              "        text-align: right;\n",
              "    }\n",
              "</style>\n",
              "<table border=\"1\" class=\"dataframe\">\n",
              "  <thead>\n",
              "    <tr style=\"text-align: right;\">\n",
              "      <th></th>\n",
              "      <th></th>\n",
              "      <th>Price</th>\n",
              "    </tr>\n",
              "    <tr>\n",
              "      <th>Item Type</th>\n",
              "      <th>Gender</th>\n",
              "      <th></th>\n",
              "    </tr>\n",
              "  </thead>\n",
              "  <tbody>\n",
              "    <tr>\n",
              "      <th rowspan=\"2\" valign=\"top\">Arts and Crafts</th>\n",
              "      <th>F</th>\n",
              "      <td>32.790000</td>\n",
              "    </tr>\n",
              "    <tr>\n",
              "      <th>M</th>\n",
              "      <td>30.590000</td>\n",
              "    </tr>\n",
              "    <tr>\n",
              "      <th rowspan=\"2\" valign=\"top\">Baby Jeans</th>\n",
              "      <th>F</th>\n",
              "      <td>18.325000</td>\n",
              "    </tr>\n",
              "    <tr>\n",
              "      <th>M</th>\n",
              "      <td>16.765000</td>\n",
              "    </tr>\n",
              "    <tr>\n",
              "      <th rowspan=\"2\" valign=\"top\">Baby Shirts</th>\n",
              "      <th>F</th>\n",
              "      <td>12.580000</td>\n",
              "    </tr>\n",
              "    <tr>\n",
              "      <th>M</th>\n",
              "      <td>12.380000</td>\n",
              "    </tr>\n",
              "    <tr>\n",
              "      <th rowspan=\"2\" valign=\"top\">Baby Shoes</th>\n",
              "      <th>F</th>\n",
              "      <td>20.690000</td>\n",
              "    </tr>\n",
              "    <tr>\n",
              "      <th>M</th>\n",
              "      <td>20.638889</td>\n",
              "    </tr>\n",
              "    <tr>\n",
              "      <th rowspan=\"2\" valign=\"top\">Baby Sweaters</th>\n",
              "      <th>F</th>\n",
              "      <td>25.416667</td>\n",
              "    </tr>\n",
              "    <tr>\n",
              "      <th>M</th>\n",
              "      <td>23.077273</td>\n",
              "    </tr>\n",
              "    <tr>\n",
              "      <th rowspan=\"2\" valign=\"top\">Backpacks</th>\n",
              "      <th>F</th>\n",
              "      <td>25.991000</td>\n",
              "    </tr>\n",
              "    <tr>\n",
              "      <th>M</th>\n",
              "      <td>25.790000</td>\n",
              "    </tr>\n",
              "    <tr>\n",
              "      <th rowspan=\"2\" valign=\"top\">Bikes &amp; Scooters</th>\n",
              "      <th>F</th>\n",
              "      <td>86.716364</td>\n",
              "    </tr>\n",
              "    <tr>\n",
              "      <th>M</th>\n",
              "      <td>81.899091</td>\n",
              "    </tr>\n",
              "    <tr>\n",
              "      <th rowspan=\"2\" valign=\"top\">Body Wash</th>\n",
              "      <th>F</th>\n",
              "      <td>5.697778</td>\n",
              "    </tr>\n",
              "    <tr>\n",
              "      <th>M</th>\n",
              "      <td>5.400000</td>\n",
              "    </tr>\n",
              "    <tr>\n",
              "      <th rowspan=\"2\" valign=\"top\">Children's\\r\\nUnderwear</th>\n",
              "      <th>F</th>\n",
              "      <td>17.670000</td>\n",
              "    </tr>\n",
              "    <tr>\n",
              "      <th>M</th>\n",
              "      <td>18.170000</td>\n",
              "    </tr>\n",
              "    <tr>\n",
              "      <th rowspan=\"2\" valign=\"top\">Children's Jeans</th>\n",
              "      <th>F</th>\n",
              "      <td>26.033333</td>\n",
              "    </tr>\n",
              "    <tr>\n",
              "      <th>M</th>\n",
              "      <td>22.830000</td>\n",
              "    </tr>\n",
              "    <tr>\n",
              "      <th rowspan=\"2\" valign=\"top\">Children's Shirts</th>\n",
              "      <th>F</th>\n",
              "      <td>16.077778</td>\n",
              "    </tr>\n",
              "    <tr>\n",
              "      <th>M</th>\n",
              "      <td>13.950000</td>\n",
              "    </tr>\n",
              "    <tr>\n",
              "      <th rowspan=\"2\" valign=\"top\">Deodorant</th>\n",
              "      <th>F</th>\n",
              "      <td>4.908000</td>\n",
              "    </tr>\n",
              "    <tr>\n",
              "      <th>M</th>\n",
              "      <td>4.750000</td>\n",
              "    </tr>\n",
              "    <tr>\n",
              "      <th rowspan=\"2\" valign=\"top\">Dress Pants</th>\n",
              "      <th>F</th>\n",
              "      <td>75.655000</td>\n",
              "    </tr>\n",
              "    <tr>\n",
              "      <th>M</th>\n",
              "      <td>71.705000</td>\n",
              "    </tr>\n",
              "    <tr>\n",
              "      <th rowspan=\"2\" valign=\"top\">Dress Shirt</th>\n",
              "      <th>F</th>\n",
              "      <td>58.107500</td>\n",
              "    </tr>\n",
              "    <tr>\n",
              "      <th>M</th>\n",
              "      <td>51.455000</td>\n",
              "    </tr>\n",
              "    <tr>\n",
              "      <th rowspan=\"2\" valign=\"top\">General Toys</th>\n",
              "      <th>F</th>\n",
              "      <td>30.547778</td>\n",
              "    </tr>\n",
              "    <tr>\n",
              "      <th>M</th>\n",
              "      <td>26.492000</td>\n",
              "    </tr>\n",
              "    <tr>\n",
              "      <th rowspan=\"2\" valign=\"top\">Hair Care</th>\n",
              "      <th>F</th>\n",
              "      <td>8.385000</td>\n",
              "    </tr>\n",
              "    <tr>\n",
              "      <th>M</th>\n",
              "      <td>5.676250</td>\n",
              "    </tr>\n",
              "    <tr>\n",
              "      <th rowspan=\"2\" valign=\"top\">Helmets &amp; Pads</th>\n",
              "      <th>F</th>\n",
              "      <td>25.790000</td>\n",
              "    </tr>\n",
              "    <tr>\n",
              "      <th>M</th>\n",
              "      <td>22.890000</td>\n",
              "    </tr>\n",
              "    <tr>\n",
              "      <th rowspan=\"2\" valign=\"top\">Jeans</th>\n",
              "      <th>F</th>\n",
              "      <td>62.752400</td>\n",
              "    </tr>\n",
              "    <tr>\n",
              "      <th>M</th>\n",
              "      <td>57.092400</td>\n",
              "    </tr>\n",
              "    <tr>\n",
              "      <th rowspan=\"2\" valign=\"top\">Lotion</th>\n",
              "      <th>F</th>\n",
              "      <td>8.250000</td>\n",
              "    </tr>\n",
              "    <tr>\n",
              "      <th>M</th>\n",
              "      <td>7.430000</td>\n",
              "    </tr>\n",
              "    <tr>\n",
              "      <th rowspan=\"2\" valign=\"top\">Onesie</th>\n",
              "      <th>F</th>\n",
              "      <td>20.909000</td>\n",
              "    </tr>\n",
              "    <tr>\n",
              "      <th>M</th>\n",
              "      <td>20.068000</td>\n",
              "    </tr>\n",
              "    <tr>\n",
              "      <th rowspan=\"2\" valign=\"top\">Preschool Toys</th>\n",
              "      <th>F</th>\n",
              "      <td>21.647143</td>\n",
              "    </tr>\n",
              "    <tr>\n",
              "      <th>M</th>\n",
              "      <td>20.656667</td>\n",
              "    </tr>\n",
              "    <tr>\n",
              "      <th rowspan=\"2\" valign=\"top\">Razor</th>\n",
              "      <th>F</th>\n",
              "      <td>8.730000</td>\n",
              "    </tr>\n",
              "    <tr>\n",
              "      <th>M</th>\n",
              "      <td>7.990000</td>\n",
              "    </tr>\n",
              "    <tr>\n",
              "      <th rowspan=\"2\" valign=\"top\">Razor\\r\\nCartridges</th>\n",
              "      <th>F</th>\n",
              "      <td>17.301111</td>\n",
              "    </tr>\n",
              "    <tr>\n",
              "      <th>M</th>\n",
              "      <td>15.605556</td>\n",
              "    </tr>\n",
              "    <tr>\n",
              "      <th rowspan=\"2\" valign=\"top\">Shaving\\r\\nCream</th>\n",
              "      <th>F</th>\n",
              "      <td>3.728000</td>\n",
              "    </tr>\n",
              "    <tr>\n",
              "      <th>M</th>\n",
              "      <td>3.889000</td>\n",
              "    </tr>\n",
              "    <tr>\n",
              "      <th rowspan=\"2\" valign=\"top\">Shirt</th>\n",
              "      <th>F</th>\n",
              "      <td>29.234000</td>\n",
              "    </tr>\n",
              "    <tr>\n",
              "      <th>M</th>\n",
              "      <td>25.511500</td>\n",
              "    </tr>\n",
              "    <tr>\n",
              "      <th rowspan=\"2\" valign=\"top\">Socks</th>\n",
              "      <th>F</th>\n",
              "      <td>9.980000</td>\n",
              "    </tr>\n",
              "    <tr>\n",
              "      <th>M</th>\n",
              "      <td>9.607895</td>\n",
              "    </tr>\n",
              "    <tr>\n",
              "      <th rowspan=\"2\" valign=\"top\">Sweater</th>\n",
              "      <th>F</th>\n",
              "      <td>63.188095</td>\n",
              "    </tr>\n",
              "    <tr>\n",
              "      <th>M</th>\n",
              "      <td>59.450000</td>\n",
              "    </tr>\n",
              "    <tr>\n",
              "      <th rowspan=\"2\" valign=\"top\">Toddler Shoes</th>\n",
              "      <th>F</th>\n",
              "      <td>28.850000</td>\n",
              "    </tr>\n",
              "    <tr>\n",
              "      <th>M</th>\n",
              "      <td>29.600000</td>\n",
              "    </tr>\n",
              "    <tr>\n",
              "      <th rowspan=\"2\" valign=\"top\">Underwear</th>\n",
              "      <th>F</th>\n",
              "      <td>8.457000</td>\n",
              "    </tr>\n",
              "    <tr>\n",
              "      <th>M</th>\n",
              "      <td>10.898000</td>\n",
              "    </tr>\n",
              "  </tbody>\n",
              "</table>\n",
              "</div>"
            ],
            "text/plain": [
              "                                    Price\n",
              "Item Type               Gender           \n",
              "Arts and Crafts         F       32.790000\n",
              "                        M       30.590000\n",
              "Baby Jeans              F       18.325000\n",
              "                        M       16.765000\n",
              "Baby Shirts             F       12.580000\n",
              "                        M       12.380000\n",
              "Baby Shoes              F       20.690000\n",
              "                        M       20.638889\n",
              "Baby Sweaters           F       25.416667\n",
              "                        M       23.077273\n",
              "Backpacks               F       25.991000\n",
              "                        M       25.790000\n",
              "Bikes & Scooters        F       86.716364\n",
              "                        M       81.899091\n",
              "Body Wash               F        5.697778\n",
              "                        M        5.400000\n",
              "Children's\\r\\nUnderwear F       17.670000\n",
              "                        M       18.170000\n",
              "Children's Jeans        F       26.033333\n",
              "                        M       22.830000\n",
              "Children's Shirts       F       16.077778\n",
              "                        M       13.950000\n",
              "Deodorant               F        4.908000\n",
              "                        M        4.750000\n",
              "Dress Pants             F       75.655000\n",
              "                        M       71.705000\n",
              "Dress Shirt             F       58.107500\n",
              "                        M       51.455000\n",
              "General Toys            F       30.547778\n",
              "                        M       26.492000\n",
              "Hair Care               F        8.385000\n",
              "                        M        5.676250\n",
              "Helmets & Pads          F       25.790000\n",
              "                        M       22.890000\n",
              "Jeans                   F       62.752400\n",
              "                        M       57.092400\n",
              "Lotion                  F        8.250000\n",
              "                        M        7.430000\n",
              "Onesie                  F       20.909000\n",
              "                        M       20.068000\n",
              "Preschool Toys          F       21.647143\n",
              "                        M       20.656667\n",
              "Razor                   F        8.730000\n",
              "                        M        7.990000\n",
              "Razor\\r\\nCartridges     F       17.301111\n",
              "                        M       15.605556\n",
              "Shaving\\r\\nCream        F        3.728000\n",
              "                        M        3.889000\n",
              "Shirt                   F       29.234000\n",
              "                        M       25.511500\n",
              "Socks                   F        9.980000\n",
              "                        M        9.607895\n",
              "Sweater                 F       63.188095\n",
              "                        M       59.450000\n",
              "Toddler Shoes           F       28.850000\n",
              "                        M       29.600000\n",
              "Underwear               F        8.457000\n",
              "                        M       10.898000"
            ]
          },
          "metadata": {
            "tags": []
          },
          "execution_count": 42
        }
      ]
    },
    {
      "metadata": {
        "id": "JxhBl8Bodbk7",
        "colab_type": "text"
      },
      "cell_type": "markdown",
      "source": [
        "Como exercício final, junte tudo e analise as médias das categorias por tipo de item e gênero."
      ]
    },
    {
      "metadata": {
        "id": "Q_ATQKCMdd8F",
        "colab_type": "code",
        "colab": {
          "base_uri": "https://localhost:8080/",
          "height": 1878
        },
        "outputId": "50854f53-a20d-46ee-9b54-c5f165c8a22d"
      },
      "cell_type": "code",
      "source": [
        "data.groupby([\"Category\", \"Item Type\",\"Gender\"]).mean()"
      ],
      "execution_count": 43,
      "outputs": [
        {
          "output_type": "execute_result",
          "data": {
            "text/html": [
              "<div>\n",
              "<style scoped>\n",
              "    .dataframe tbody tr th:only-of-type {\n",
              "        vertical-align: middle;\n",
              "    }\n",
              "\n",
              "    .dataframe tbody tr th {\n",
              "        vertical-align: top;\n",
              "    }\n",
              "\n",
              "    .dataframe thead th {\n",
              "        text-align: right;\n",
              "    }\n",
              "</style>\n",
              "<table border=\"1\" class=\"dataframe\">\n",
              "  <thead>\n",
              "    <tr style=\"text-align: right;\">\n",
              "      <th></th>\n",
              "      <th></th>\n",
              "      <th></th>\n",
              "      <th>Price</th>\n",
              "    </tr>\n",
              "    <tr>\n",
              "      <th>Category</th>\n",
              "      <th>Item Type</th>\n",
              "      <th>Gender</th>\n",
              "      <th></th>\n",
              "    </tr>\n",
              "  </thead>\n",
              "  <tbody>\n",
              "    <tr>\n",
              "      <th rowspan=\"14\" valign=\"top\">Beauty</th>\n",
              "      <th rowspan=\"2\" valign=\"top\">Body Wash</th>\n",
              "      <th>F</th>\n",
              "      <td>5.697778</td>\n",
              "    </tr>\n",
              "    <tr>\n",
              "      <th>M</th>\n",
              "      <td>5.400000</td>\n",
              "    </tr>\n",
              "    <tr>\n",
              "      <th rowspan=\"2\" valign=\"top\">Deodorant</th>\n",
              "      <th>F</th>\n",
              "      <td>4.908000</td>\n",
              "    </tr>\n",
              "    <tr>\n",
              "      <th>M</th>\n",
              "      <td>4.750000</td>\n",
              "    </tr>\n",
              "    <tr>\n",
              "      <th rowspan=\"2\" valign=\"top\">Hair Care</th>\n",
              "      <th>F</th>\n",
              "      <td>8.385000</td>\n",
              "    </tr>\n",
              "    <tr>\n",
              "      <th>M</th>\n",
              "      <td>5.676250</td>\n",
              "    </tr>\n",
              "    <tr>\n",
              "      <th rowspan=\"2\" valign=\"top\">Lotion</th>\n",
              "      <th>F</th>\n",
              "      <td>8.250000</td>\n",
              "    </tr>\n",
              "    <tr>\n",
              "      <th>M</th>\n",
              "      <td>7.430000</td>\n",
              "    </tr>\n",
              "    <tr>\n",
              "      <th rowspan=\"2\" valign=\"top\">Razor</th>\n",
              "      <th>F</th>\n",
              "      <td>8.730000</td>\n",
              "    </tr>\n",
              "    <tr>\n",
              "      <th>M</th>\n",
              "      <td>7.990000</td>\n",
              "    </tr>\n",
              "    <tr>\n",
              "      <th rowspan=\"2\" valign=\"top\">Razor\\r\\nCartridges</th>\n",
              "      <th>F</th>\n",
              "      <td>17.301111</td>\n",
              "    </tr>\n",
              "    <tr>\n",
              "      <th>M</th>\n",
              "      <td>15.605556</td>\n",
              "    </tr>\n",
              "    <tr>\n",
              "      <th rowspan=\"2\" valign=\"top\">Shaving\\r\\nCream</th>\n",
              "      <th>F</th>\n",
              "      <td>3.728000</td>\n",
              "    </tr>\n",
              "    <tr>\n",
              "      <th>M</th>\n",
              "      <td>3.889000</td>\n",
              "    </tr>\n",
              "    <tr>\n",
              "      <th rowspan=\"14\" valign=\"top\">Clothes</th>\n",
              "      <th rowspan=\"2\" valign=\"top\">Dress Pants</th>\n",
              "      <th>F</th>\n",
              "      <td>75.655000</td>\n",
              "    </tr>\n",
              "    <tr>\n",
              "      <th>M</th>\n",
              "      <td>71.705000</td>\n",
              "    </tr>\n",
              "    <tr>\n",
              "      <th rowspan=\"2\" valign=\"top\">Dress Shirt</th>\n",
              "      <th>F</th>\n",
              "      <td>58.107500</td>\n",
              "    </tr>\n",
              "    <tr>\n",
              "      <th>M</th>\n",
              "      <td>51.455000</td>\n",
              "    </tr>\n",
              "    <tr>\n",
              "      <th rowspan=\"2\" valign=\"top\">Jeans</th>\n",
              "      <th>F</th>\n",
              "      <td>62.752400</td>\n",
              "    </tr>\n",
              "    <tr>\n",
              "      <th>M</th>\n",
              "      <td>57.092400</td>\n",
              "    </tr>\n",
              "    <tr>\n",
              "      <th rowspan=\"2\" valign=\"top\">Shirt</th>\n",
              "      <th>F</th>\n",
              "      <td>29.234000</td>\n",
              "    </tr>\n",
              "    <tr>\n",
              "      <th>M</th>\n",
              "      <td>25.511500</td>\n",
              "    </tr>\n",
              "    <tr>\n",
              "      <th rowspan=\"2\" valign=\"top\">Socks</th>\n",
              "      <th>F</th>\n",
              "      <td>9.980000</td>\n",
              "    </tr>\n",
              "    <tr>\n",
              "      <th>M</th>\n",
              "      <td>9.607895</td>\n",
              "    </tr>\n",
              "    <tr>\n",
              "      <th rowspan=\"2\" valign=\"top\">Sweater</th>\n",
              "      <th>F</th>\n",
              "      <td>63.188095</td>\n",
              "    </tr>\n",
              "    <tr>\n",
              "      <th>M</th>\n",
              "      <td>59.450000</td>\n",
              "    </tr>\n",
              "    <tr>\n",
              "      <th rowspan=\"2\" valign=\"top\">Underwear</th>\n",
              "      <th>F</th>\n",
              "      <td>8.457000</td>\n",
              "    </tr>\n",
              "    <tr>\n",
              "      <th>M</th>\n",
              "      <td>10.898000</td>\n",
              "    </tr>\n",
              "    <tr>\n",
              "      <th rowspan=\"30\" valign=\"top\">Kids</th>\n",
              "      <th rowspan=\"2\" valign=\"top\">Arts and Crafts</th>\n",
              "      <th>F</th>\n",
              "      <td>32.790000</td>\n",
              "    </tr>\n",
              "    <tr>\n",
              "      <th>M</th>\n",
              "      <td>30.590000</td>\n",
              "    </tr>\n",
              "    <tr>\n",
              "      <th rowspan=\"2\" valign=\"top\">Baby Jeans</th>\n",
              "      <th>F</th>\n",
              "      <td>18.325000</td>\n",
              "    </tr>\n",
              "    <tr>\n",
              "      <th>M</th>\n",
              "      <td>16.765000</td>\n",
              "    </tr>\n",
              "    <tr>\n",
              "      <th rowspan=\"2\" valign=\"top\">Baby Shirts</th>\n",
              "      <th>F</th>\n",
              "      <td>12.580000</td>\n",
              "    </tr>\n",
              "    <tr>\n",
              "      <th>M</th>\n",
              "      <td>12.380000</td>\n",
              "    </tr>\n",
              "    <tr>\n",
              "      <th rowspan=\"2\" valign=\"top\">Baby Shoes</th>\n",
              "      <th>F</th>\n",
              "      <td>20.690000</td>\n",
              "    </tr>\n",
              "    <tr>\n",
              "      <th>M</th>\n",
              "      <td>20.638889</td>\n",
              "    </tr>\n",
              "    <tr>\n",
              "      <th rowspan=\"2\" valign=\"top\">Baby Sweaters</th>\n",
              "      <th>F</th>\n",
              "      <td>25.416667</td>\n",
              "    </tr>\n",
              "    <tr>\n",
              "      <th>M</th>\n",
              "      <td>23.077273</td>\n",
              "    </tr>\n",
              "    <tr>\n",
              "      <th rowspan=\"2\" valign=\"top\">Backpacks</th>\n",
              "      <th>F</th>\n",
              "      <td>25.991000</td>\n",
              "    </tr>\n",
              "    <tr>\n",
              "      <th>M</th>\n",
              "      <td>25.790000</td>\n",
              "    </tr>\n",
              "    <tr>\n",
              "      <th rowspan=\"2\" valign=\"top\">Bikes &amp; Scooters</th>\n",
              "      <th>F</th>\n",
              "      <td>86.716364</td>\n",
              "    </tr>\n",
              "    <tr>\n",
              "      <th>M</th>\n",
              "      <td>81.899091</td>\n",
              "    </tr>\n",
              "    <tr>\n",
              "      <th rowspan=\"2\" valign=\"top\">Children's\\r\\nUnderwear</th>\n",
              "      <th>F</th>\n",
              "      <td>17.670000</td>\n",
              "    </tr>\n",
              "    <tr>\n",
              "      <th>M</th>\n",
              "      <td>18.170000</td>\n",
              "    </tr>\n",
              "    <tr>\n",
              "      <th rowspan=\"2\" valign=\"top\">Children's Jeans</th>\n",
              "      <th>F</th>\n",
              "      <td>26.033333</td>\n",
              "    </tr>\n",
              "    <tr>\n",
              "      <th>M</th>\n",
              "      <td>22.830000</td>\n",
              "    </tr>\n",
              "    <tr>\n",
              "      <th rowspan=\"2\" valign=\"top\">Children's Shirts</th>\n",
              "      <th>F</th>\n",
              "      <td>16.077778</td>\n",
              "    </tr>\n",
              "    <tr>\n",
              "      <th>M</th>\n",
              "      <td>13.950000</td>\n",
              "    </tr>\n",
              "    <tr>\n",
              "      <th rowspan=\"2\" valign=\"top\">General Toys</th>\n",
              "      <th>F</th>\n",
              "      <td>30.547778</td>\n",
              "    </tr>\n",
              "    <tr>\n",
              "      <th>M</th>\n",
              "      <td>26.492000</td>\n",
              "    </tr>\n",
              "    <tr>\n",
              "      <th rowspan=\"2\" valign=\"top\">Helmets &amp; Pads</th>\n",
              "      <th>F</th>\n",
              "      <td>25.790000</td>\n",
              "    </tr>\n",
              "    <tr>\n",
              "      <th>M</th>\n",
              "      <td>22.890000</td>\n",
              "    </tr>\n",
              "    <tr>\n",
              "      <th rowspan=\"2\" valign=\"top\">Onesie</th>\n",
              "      <th>F</th>\n",
              "      <td>20.909000</td>\n",
              "    </tr>\n",
              "    <tr>\n",
              "      <th>M</th>\n",
              "      <td>20.068000</td>\n",
              "    </tr>\n",
              "    <tr>\n",
              "      <th rowspan=\"2\" valign=\"top\">Preschool Toys</th>\n",
              "      <th>F</th>\n",
              "      <td>21.647143</td>\n",
              "    </tr>\n",
              "    <tr>\n",
              "      <th>M</th>\n",
              "      <td>20.656667</td>\n",
              "    </tr>\n",
              "    <tr>\n",
              "      <th rowspan=\"2\" valign=\"top\">Toddler Shoes</th>\n",
              "      <th>F</th>\n",
              "      <td>28.850000</td>\n",
              "    </tr>\n",
              "    <tr>\n",
              "      <th>M</th>\n",
              "      <td>29.600000</td>\n",
              "    </tr>\n",
              "  </tbody>\n",
              "</table>\n",
              "</div>"
            ],
            "text/plain": [
              "                                             Price\n",
              "Category Item Type               Gender           \n",
              "Beauty   Body Wash               F        5.697778\n",
              "                                 M        5.400000\n",
              "         Deodorant               F        4.908000\n",
              "                                 M        4.750000\n",
              "         Hair Care               F        8.385000\n",
              "                                 M        5.676250\n",
              "         Lotion                  F        8.250000\n",
              "                                 M        7.430000\n",
              "         Razor                   F        8.730000\n",
              "                                 M        7.990000\n",
              "         Razor\\r\\nCartridges     F       17.301111\n",
              "                                 M       15.605556\n",
              "         Shaving\\r\\nCream        F        3.728000\n",
              "                                 M        3.889000\n",
              "Clothes  Dress Pants             F       75.655000\n",
              "                                 M       71.705000\n",
              "         Dress Shirt             F       58.107500\n",
              "                                 M       51.455000\n",
              "         Jeans                   F       62.752400\n",
              "                                 M       57.092400\n",
              "         Shirt                   F       29.234000\n",
              "                                 M       25.511500\n",
              "         Socks                   F        9.980000\n",
              "                                 M        9.607895\n",
              "         Sweater                 F       63.188095\n",
              "                                 M       59.450000\n",
              "         Underwear               F        8.457000\n",
              "                                 M       10.898000\n",
              "Kids     Arts and Crafts         F       32.790000\n",
              "                                 M       30.590000\n",
              "         Baby Jeans              F       18.325000\n",
              "                                 M       16.765000\n",
              "         Baby Shirts             F       12.580000\n",
              "                                 M       12.380000\n",
              "         Baby Shoes              F       20.690000\n",
              "                                 M       20.638889\n",
              "         Baby Sweaters           F       25.416667\n",
              "                                 M       23.077273\n",
              "         Backpacks               F       25.991000\n",
              "                                 M       25.790000\n",
              "         Bikes & Scooters        F       86.716364\n",
              "                                 M       81.899091\n",
              "         Children's\\r\\nUnderwear F       17.670000\n",
              "                                 M       18.170000\n",
              "         Children's Jeans        F       26.033333\n",
              "                                 M       22.830000\n",
              "         Children's Shirts       F       16.077778\n",
              "                                 M       13.950000\n",
              "         General Toys            F       30.547778\n",
              "                                 M       26.492000\n",
              "         Helmets & Pads          F       25.790000\n",
              "                                 M       22.890000\n",
              "         Onesie                  F       20.909000\n",
              "                                 M       20.068000\n",
              "         Preschool Toys          F       21.647143\n",
              "                                 M       20.656667\n",
              "         Toddler Shoes           F       28.850000\n",
              "                                 M       29.600000"
            ]
          },
          "metadata": {
            "tags": []
          },
          "execution_count": 43
        }
      ]
    }
  ]
}